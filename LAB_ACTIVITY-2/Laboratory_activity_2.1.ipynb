{
  "nbformat": 4,
  "nbformat_minor": 0,
  "metadata": {
    "colab": {
      "provenance": [],
      "authorship_tag": "ABX9TyMkVswef1BNBNz+N9VHV4AJ",
      "include_colab_link": true
    },
    "kernelspec": {
      "name": "python3",
      "display_name": "Python 3"
    },
    "language_info": {
      "name": "python"
    }
  },
  "cells": [
    {
      "cell_type": "markdown",
      "metadata": {
        "id": "view-in-github",
        "colab_type": "text"
      },
      "source": [
        "<a href=\"https://colab.research.google.com/github/kenmanongsong/CPE-103-OOP-1-A/blob/main/Laboratory_activity_2.1.ipynb\" target=\"_parent\"><img src=\"https://colab.research.google.com/assets/colab-badge.svg\" alt=\"Open In Colab\"/></a>"
      ]
    },
    {
      "cell_type": "markdown",
      "source": [
        "Assigning variables of different data types in Python"
      ],
      "metadata": {
        "id": "zO5KucF3w67c"
      }
    },
    {
      "cell_type": "code",
      "execution_count": 146,
      "metadata": {
        "colab": {
          "base_uri": "https://localhost:8080/"
        },
        "id": "ItAjyPT9pFtp",
        "outputId": "53d5eb48-6847-47c1-914d-7540cb1a286d"
      },
      "outputs": [
        {
          "output_type": "stream",
          "name": "stdout",
          "text": [
            "5\n"
          ]
        }
      ],
      "source": [
        "\n",
        "value = 5\n",
        "print(value)"
      ]
    },
    {
      "cell_type": "code",
      "source": [
        "type(value)"
      ],
      "metadata": {
        "colab": {
          "base_uri": "https://localhost:8080/"
        },
        "id": "JWCroYf2A44r",
        "outputId": "dad5c1a6-ec7b-4e54-e43d-fd81ab0359c2"
      },
      "execution_count": 147,
      "outputs": [
        {
          "output_type": "execute_result",
          "data": {
            "text/plain": [
              "int"
            ]
          },
          "metadata": {},
          "execution_count": 147
        }
      ]
    },
    {
      "cell_type": "code",
      "source": [
        "value = 5.0\n",
        "print(value)"
      ],
      "metadata": {
        "colab": {
          "base_uri": "https://localhost:8080/"
        },
        "id": "y3Br__kZA6LJ",
        "outputId": "230e5f3d-7334-4dae-d5a3-395a6ae4c0a4"
      },
      "execution_count": 148,
      "outputs": [
        {
          "output_type": "stream",
          "name": "stdout",
          "text": [
            "5.0\n"
          ]
        }
      ]
    },
    {
      "cell_type": "code",
      "source": [
        "type(value)"
      ],
      "metadata": {
        "colab": {
          "base_uri": "https://localhost:8080/"
        },
        "id": "6gjHGhLaA72C",
        "outputId": "b9639fa6-166a-479e-e3e8-9f8da3dc8a4f"
      },
      "execution_count": 149,
      "outputs": [
        {
          "output_type": "execute_result",
          "data": {
            "text/plain": [
              "float"
            ]
          },
          "metadata": {},
          "execution_count": 149
        }
      ]
    },
    {
      "cell_type": "markdown",
      "source": [
        "A."
      ],
      "metadata": {
        "id": "UAk8LP3nq8PE"
      }
    },
    {
      "cell_type": "code",
      "source": [
        "value = 2+3j\n",
        "print(value)"
      ],
      "metadata": {
        "colab": {
          "base_uri": "https://localhost:8080/"
        },
        "id": "RiTNeVizp-rR",
        "outputId": "73c4b982-6fff-4d2b-cf10-39b022444168"
      },
      "execution_count": 7,
      "outputs": [
        {
          "output_type": "stream",
          "name": "stdout",
          "text": [
            "(2+3j)\n"
          ]
        }
      ]
    },
    {
      "cell_type": "code",
      "source": [
        "type(2+3j)"
      ],
      "metadata": {
        "colab": {
          "base_uri": "https://localhost:8080/"
        },
        "id": "2_iQZIkWqbYh",
        "outputId": "c4df6591-99a6-438d-cea4-8c8f25ee3272"
      },
      "execution_count": 56,
      "outputs": [
        {
          "output_type": "execute_result",
          "data": {
            "text/plain": [
              "complex"
            ]
          },
          "metadata": {},
          "execution_count": 56
        }
      ]
    },
    {
      "cell_type": "code",
      "source": [
        "value = 2+3j\n",
        "print(value)"
      ],
      "metadata": {
        "colab": {
          "base_uri": "https://localhost:8080/"
        },
        "id": "R1U6Hd1yqqJV",
        "outputId": "77fe9051-2d3a-48b1-f6b8-c7403c24a8f6"
      },
      "execution_count": 10,
      "outputs": [
        {
          "output_type": "stream",
          "name": "stdout",
          "text": [
            "(2+3j)\n"
          ]
        }
      ]
    },
    {
      "cell_type": "code",
      "source": [
        "type(2+3j)"
      ],
      "metadata": {
        "colab": {
          "base_uri": "https://localhost:8080/"
        },
        "id": "JGRxfujeqvjp",
        "outputId": "4d860bc2-402f-4fd6-ca0a-5f29d6750209"
      },
      "execution_count": 11,
      "outputs": [
        {
          "output_type": "execute_result",
          "data": {
            "text/plain": [
              "complex"
            ]
          },
          "metadata": {},
          "execution_count": 11
        }
      ]
    },
    {
      "cell_type": "markdown",
      "source": [
        "B."
      ],
      "metadata": {
        "id": "HNBZhfBNrAl1"
      }
    },
    {
      "cell_type": "code",
      "source": [
        "value =\t'Hello World'\n",
        "print(value)"
      ],
      "metadata": {
        "colab": {
          "base_uri": "https://localhost:8080/"
        },
        "id": "TOYf61fyq3oI",
        "outputId": "53c0c20b-fee2-4185-85e2-ad1fbc733117"
      },
      "execution_count": 46,
      "outputs": [
        {
          "output_type": "stream",
          "name": "stdout",
          "text": [
            "Hello World\n"
          ]
        }
      ]
    },
    {
      "cell_type": "code",
      "source": [
        "type('Hello World')"
      ],
      "metadata": {
        "colab": {
          "base_uri": "https://localhost:8080/"
        },
        "id": "cEkuGSZIqitU",
        "outputId": "5cdb811a-52f4-4e43-a316-cda35f539dd8"
      },
      "execution_count": 18,
      "outputs": [
        {
          "output_type": "execute_result",
          "data": {
            "text/plain": [
              "str"
            ]
          },
          "metadata": {},
          "execution_count": 18
        }
      ]
    },
    {
      "cell_type": "code",
      "source": [
        "value =\t'Hello World'\n",
        "print(value)"
      ],
      "metadata": {
        "colab": {
          "base_uri": "https://localhost:8080/"
        },
        "id": "_0T46mXArHfs",
        "outputId": "db84be9e-51c2-466b-c6c6-03c09c36cdcb"
      },
      "execution_count": 44,
      "outputs": [
        {
          "output_type": "stream",
          "name": "stdout",
          "text": [
            "Hello World\n"
          ]
        }
      ]
    },
    {
      "cell_type": "code",
      "source": [
        "type('Hello World')"
      ],
      "metadata": {
        "colab": {
          "base_uri": "https://localhost:8080/"
        },
        "id": "sC--jHMrrHl1",
        "outputId": "e7696cfe-2d67-429d-b638-fa45fabd31af"
      },
      "execution_count": 20,
      "outputs": [
        {
          "output_type": "execute_result",
          "data": {
            "text/plain": [
              "str"
            ]
          },
          "metadata": {},
          "execution_count": 20
        }
      ]
    },
    {
      "cell_type": "markdown",
      "source": [
        "C."
      ],
      "metadata": {
        "id": "jYsz10CLromw"
      }
    },
    {
      "cell_type": "code",
      "source": [
        "value =\t\"Hello World\"\n",
        "print(value)"
      ],
      "metadata": {
        "colab": {
          "base_uri": "https://localhost:8080/"
        },
        "id": "yUUZYxKZroOw",
        "outputId": "0eec6f14-ca4f-447b-afc4-54d903c5cfeb"
      },
      "execution_count": 45,
      "outputs": [
        {
          "output_type": "stream",
          "name": "stdout",
          "text": [
            "Hello World\n"
          ]
        }
      ]
    },
    {
      "cell_type": "code",
      "source": [
        "type(\"Hello World\")"
      ],
      "metadata": {
        "colab": {
          "base_uri": "https://localhost:8080/"
        },
        "id": "n7k88eCRrqkR",
        "outputId": "fac34034-cb58-4135-d2f9-62ea2ff4930e"
      },
      "execution_count": 25,
      "outputs": [
        {
          "output_type": "execute_result",
          "data": {
            "text/plain": [
              "str"
            ]
          },
          "metadata": {},
          "execution_count": 25
        }
      ]
    },
    {
      "cell_type": "code",
      "source": [
        "value =\t\"Hello World\"\n",
        "print(value)"
      ],
      "metadata": {
        "colab": {
          "base_uri": "https://localhost:8080/"
        },
        "id": "bXBRAfO_rqpI",
        "outputId": "97eb6676-6a9d-4b9b-be7e-77af61337b52"
      },
      "execution_count": 42,
      "outputs": [
        {
          "output_type": "stream",
          "name": "stdout",
          "text": [
            "Hello World\n"
          ]
        }
      ]
    },
    {
      "cell_type": "code",
      "source": [
        "type(\"Hello World\")"
      ],
      "metadata": {
        "colab": {
          "base_uri": "https://localhost:8080/"
        },
        "id": "4v7hIbZnrq6J",
        "outputId": "c2b67229-001f-46b4-b563-cf16b02cb1d0"
      },
      "execution_count": 24,
      "outputs": [
        {
          "output_type": "execute_result",
          "data": {
            "text/plain": [
              "str"
            ]
          },
          "metadata": {},
          "execution_count": 24
        }
      ]
    },
    {
      "cell_type": "markdown",
      "source": [
        "D."
      ],
      "metadata": {
        "id": "8M4fE7y8r_v8"
      }
    },
    {
      "cell_type": "code",
      "source": [
        "value =\tTrue\n",
        "print(value)"
      ],
      "metadata": {
        "colab": {
          "base_uri": "https://localhost:8080/"
        },
        "id": "RJEtJUgqr_h9",
        "outputId": "c07b3c28-8ee8-48a3-a5c5-aa5e5a6e80ce"
      },
      "execution_count": 47,
      "outputs": [
        {
          "output_type": "stream",
          "name": "stdout",
          "text": [
            "True\n"
          ]
        }
      ]
    },
    {
      "cell_type": "code",
      "source": [
        "type(True)"
      ],
      "metadata": {
        "colab": {
          "base_uri": "https://localhost:8080/"
        },
        "id": "D2pBouotsAyE",
        "outputId": "fc053116-dd89-4c3b-ed4f-3f52b2612a05"
      },
      "execution_count": 30,
      "outputs": [
        {
          "output_type": "execute_result",
          "data": {
            "text/plain": [
              "bool"
            ]
          },
          "metadata": {},
          "execution_count": 30
        }
      ]
    },
    {
      "cell_type": "code",
      "source": [
        "value =\tTrue\n",
        "print(value)"
      ],
      "metadata": {
        "colab": {
          "base_uri": "https://localhost:8080/"
        },
        "id": "H01wVK8xsAkM",
        "outputId": "795def03-40b1-4717-ecf5-63a013882cc9"
      },
      "execution_count": 43,
      "outputs": [
        {
          "output_type": "stream",
          "name": "stdout",
          "text": [
            "True\n"
          ]
        }
      ]
    },
    {
      "cell_type": "code",
      "source": [
        "type(True)"
      ],
      "metadata": {
        "colab": {
          "base_uri": "https://localhost:8080/"
        },
        "id": "XcL7eB0ssASk",
        "outputId": "4750cc51-48ce-4c16-c6d0-f9defa30244d"
      },
      "execution_count": 27,
      "outputs": [
        {
          "output_type": "execute_result",
          "data": {
            "text/plain": [
              "bool"
            ]
          },
          "metadata": {},
          "execution_count": 27
        }
      ]
    },
    {
      "cell_type": "markdown",
      "source": [
        "E."
      ],
      "metadata": {
        "id": "-yPvjMhrsXoQ"
      }
    },
    {
      "cell_type": "code",
      "source": [
        "value =\tFalse\n",
        "print(value)"
      ],
      "metadata": {
        "colab": {
          "base_uri": "https://localhost:8080/"
        },
        "id": "ZEyAhD1IsZW5",
        "outputId": "48845d00-bd73-422b-ace5-3d8efbebb941"
      },
      "execution_count": 48,
      "outputs": [
        {
          "output_type": "stream",
          "name": "stdout",
          "text": [
            "False\n"
          ]
        }
      ]
    },
    {
      "cell_type": "code",
      "source": [
        "type(False)"
      ],
      "metadata": {
        "colab": {
          "base_uri": "https://localhost:8080/"
        },
        "id": "-IzXcHp_sZQZ",
        "outputId": "f2fb03bb-ae2c-410c-af0b-6bc5865a6512"
      },
      "execution_count": 33,
      "outputs": [
        {
          "output_type": "execute_result",
          "data": {
            "text/plain": [
              "bool"
            ]
          },
          "metadata": {},
          "execution_count": 33
        }
      ]
    },
    {
      "cell_type": "code",
      "source": [
        "value =\tFalse\n",
        "print(value)"
      ],
      "metadata": {
        "colab": {
          "base_uri": "https://localhost:8080/"
        },
        "id": "Yp6rzpEjsZLa",
        "outputId": "7f28d16f-6a8c-47b6-e94f-c91267e3c11e"
      },
      "execution_count": 41,
      "outputs": [
        {
          "output_type": "stream",
          "name": "stdout",
          "text": [
            "False\n"
          ]
        }
      ]
    },
    {
      "cell_type": "code",
      "source": [
        "type(False)"
      ],
      "metadata": {
        "colab": {
          "base_uri": "https://localhost:8080/"
        },
        "id": "TGandia4sZFp",
        "outputId": "49e2302d-c2ad-4e1d-a520-79d889729c33"
      },
      "execution_count": 35,
      "outputs": [
        {
          "output_type": "execute_result",
          "data": {
            "text/plain": [
              "bool"
            ]
          },
          "metadata": {},
          "execution_count": 35
        }
      ]
    },
    {
      "cell_type": "markdown",
      "source": [
        "F."
      ],
      "metadata": {
        "id": "434n_tqoswEJ"
      }
    },
    {
      "cell_type": "code",
      "source": [
        "value =\t[1,2,3,4,5]\n",
        "print(value)"
      ],
      "metadata": {
        "colab": {
          "base_uri": "https://localhost:8080/"
        },
        "id": "h2zj6i3Hswbh",
        "outputId": "3edb64e7-8835-4ea5-e9a1-2014735aa226"
      },
      "execution_count": 49,
      "outputs": [
        {
          "output_type": "stream",
          "name": "stdout",
          "text": [
            "[1, 2, 3, 4, 5]\n"
          ]
        }
      ]
    },
    {
      "cell_type": "code",
      "source": [
        "type([1,2,3,4,5])"
      ],
      "metadata": {
        "colab": {
          "base_uri": "https://localhost:8080/"
        },
        "id": "xceyOAjksw8R",
        "outputId": "15f3370f-e249-4f14-c45a-00c3beee018d"
      },
      "execution_count": 38,
      "outputs": [
        {
          "output_type": "execute_result",
          "data": {
            "text/plain": [
              "list"
            ]
          },
          "metadata": {},
          "execution_count": 38
        }
      ]
    },
    {
      "cell_type": "code",
      "source": [
        "value =\t[1,2,3,4,5]\n",
        "print(value)"
      ],
      "metadata": {
        "colab": {
          "base_uri": "https://localhost:8080/"
        },
        "id": "r1whFunCswyK",
        "outputId": "ea2be1bf-969a-41a9-eb9d-8bc52f63ad85"
      },
      "execution_count": 40,
      "outputs": [
        {
          "output_type": "stream",
          "name": "stdout",
          "text": [
            "[1, 2, 3, 4, 5]\n"
          ]
        }
      ]
    },
    {
      "cell_type": "code",
      "source": [
        "type([1,2,3,4,5])"
      ],
      "metadata": {
        "colab": {
          "base_uri": "https://localhost:8080/"
        },
        "id": "XTzbLVBisv0p",
        "outputId": "ed34c4bd-fa8c-41ee-e128-bf5306d3766a"
      },
      "execution_count": 36,
      "outputs": [
        {
          "output_type": "execute_result",
          "data": {
            "text/plain": [
              "list"
            ]
          },
          "metadata": {},
          "execution_count": 36
        }
      ]
    },
    {
      "cell_type": "markdown",
      "source": [
        "G."
      ],
      "metadata": {
        "id": "6UpmcNlMthbE"
      }
    },
    {
      "cell_type": "code",
      "source": [
        "value =\tvalue = (1,2,3,4,5)\n",
        "print(value)"
      ],
      "metadata": {
        "colab": {
          "base_uri": "https://localhost:8080/"
        },
        "id": "Tj0NrL7Rti9M",
        "outputId": "25e9e398-40c3-4253-f426-d38821edd79f"
      },
      "execution_count": 51,
      "outputs": [
        {
          "output_type": "stream",
          "name": "stdout",
          "text": [
            "(1, 2, 3, 4, 5)\n"
          ]
        }
      ]
    },
    {
      "cell_type": "code",
      "source": [
        "type((1,2,3,4,5))"
      ],
      "metadata": {
        "colab": {
          "base_uri": "https://localhost:8080/"
        },
        "id": "KgWmQAYltjZ7",
        "outputId": "43621285-3967-4045-c7fa-f15d0206f5c5"
      },
      "execution_count": 50,
      "outputs": [
        {
          "output_type": "execute_result",
          "data": {
            "text/plain": [
              "tuple"
            ]
          },
          "metadata": {},
          "execution_count": 50
        }
      ]
    },
    {
      "cell_type": "code",
      "source": [
        "value =\t(1,2,3,4,5)\n",
        "print(value)"
      ],
      "metadata": {
        "colab": {
          "base_uri": "https://localhost:8080/"
        },
        "id": "xB-eLAuAtjVD",
        "outputId": "c38bf359-8083-4a89-c6ec-3f54591c2d4f"
      },
      "execution_count": 55,
      "outputs": [
        {
          "output_type": "stream",
          "name": "stdout",
          "text": [
            "(1, 2, 3, 4, 5)\n"
          ]
        }
      ]
    },
    {
      "cell_type": "code",
      "source": [
        "type((1,2,3,4,5))"
      ],
      "metadata": {
        "colab": {
          "base_uri": "https://localhost:8080/"
        },
        "id": "CdgluNK4tjNU",
        "outputId": "14b6fdab-2ca9-46cf-8edd-7833b223107e"
      },
      "execution_count": 54,
      "outputs": [
        {
          "output_type": "execute_result",
          "data": {
            "text/plain": [
              "tuple"
            ]
          },
          "metadata": {},
          "execution_count": 54
        }
      ]
    },
    {
      "cell_type": "markdown",
      "source": [
        "H.\n"
      ],
      "metadata": {
        "id": "Bg-GRPYrvd3I"
      }
    },
    {
      "cell_type": "code",
      "source": [
        "value =\tvalue = {'name': 'Your_name' }\n",
        "print(value)"
      ],
      "metadata": {
        "colab": {
          "base_uri": "https://localhost:8080/"
        },
        "id": "7qPXJV0Evgfg",
        "outputId": "7e03b736-4822-4619-9930-7053835c7c30"
      },
      "execution_count": 59,
      "outputs": [
        {
          "output_type": "stream",
          "name": "stdout",
          "text": [
            "{'name': 'Your_name'}\n"
          ]
        }
      ]
    },
    {
      "cell_type": "code",
      "source": [
        "type({'name': 'Your_name' })"
      ],
      "metadata": {
        "colab": {
          "base_uri": "https://localhost:8080/"
        },
        "id": "Z_Uh-Zz9vjM7",
        "outputId": "ec49ef8c-4355-4b2e-9bda-11dcddd541bd"
      },
      "execution_count": 60,
      "outputs": [
        {
          "output_type": "execute_result",
          "data": {
            "text/plain": [
              "dict"
            ]
          },
          "metadata": {},
          "execution_count": 60
        }
      ]
    },
    {
      "cell_type": "code",
      "source": [
        "value =\t{'name': 'Your_name' }\n",
        "print(value)"
      ],
      "metadata": {
        "colab": {
          "base_uri": "https://localhost:8080/"
        },
        "id": "rs_C3GfdvjH4",
        "outputId": "d908e86d-a41b-465e-ba8a-c78052b2b202"
      },
      "execution_count": 61,
      "outputs": [
        {
          "output_type": "stream",
          "name": "stdout",
          "text": [
            "{'name': 'Your_name'}\n"
          ]
        }
      ]
    },
    {
      "cell_type": "code",
      "source": [
        "type({'name': 'Your_name' })"
      ],
      "metadata": {
        "colab": {
          "base_uri": "https://localhost:8080/"
        },
        "id": "8I-xg0YgvjBA",
        "outputId": "88cfa9bb-b9a0-4fab-88e3-eaf89b12401c"
      },
      "execution_count": 62,
      "outputs": [
        {
          "output_type": "execute_result",
          "data": {
            "text/plain": [
              "dict"
            ]
          },
          "metadata": {},
          "execution_count": 62
        }
      ]
    },
    {
      "cell_type": "markdown",
      "source": [
        "I."
      ],
      "metadata": {
        "id": "pQ_yeOyNv42J"
      }
    },
    {
      "cell_type": "code",
      "source": [
        "value =\tvalue = None\n",
        "print(value)"
      ],
      "metadata": {
        "colab": {
          "base_uri": "https://localhost:8080/"
        },
        "id": "YwxSp2_5v6rh",
        "outputId": "6cb7acc4-fb4d-47d6-fd80-da5cc489dbca"
      },
      "execution_count": 150,
      "outputs": [
        {
          "output_type": "stream",
          "name": "stdout",
          "text": [
            "None\n"
          ]
        }
      ]
    },
    {
      "cell_type": "code",
      "source": [
        "type(None)"
      ],
      "metadata": {
        "colab": {
          "base_uri": "https://localhost:8080/"
        },
        "id": "hCSzHQffBGm6",
        "outputId": "f197499c-3e79-4eec-b038-0d25406a6370"
      },
      "execution_count": 151,
      "outputs": [
        {
          "output_type": "execute_result",
          "data": {
            "text/plain": [
              "NoneType"
            ]
          },
          "metadata": {},
          "execution_count": 151
        }
      ]
    },
    {
      "cell_type": "code",
      "source": [
        "value =\tNone\n",
        "print(value)"
      ],
      "metadata": {
        "colab": {
          "base_uri": "https://localhost:8080/"
        },
        "id": "LAJX3Ae3BMW8",
        "outputId": "5924f8d1-3296-435c-8681-5902f14286ba"
      },
      "execution_count": 152,
      "outputs": [
        {
          "output_type": "stream",
          "name": "stdout",
          "text": [
            "None\n"
          ]
        }
      ]
    },
    {
      "cell_type": "code",
      "source": [
        "type(None)"
      ],
      "metadata": {
        "colab": {
          "base_uri": "https://localhost:8080/"
        },
        "id": "bnt67ky0BMSl",
        "outputId": "51ab6f02-79a9-4040-88a0-0a72fd28242d"
      },
      "execution_count": 153,
      "outputs": [
        {
          "output_type": "execute_result",
          "data": {
            "text/plain": [
              "NoneType"
            ]
          },
          "metadata": {},
          "execution_count": 153
        }
      ]
    },
    {
      "cell_type": "markdown",
      "source": [
        "Re-assign the value variable to be equal to 5."
      ],
      "metadata": {
        "id": "Y3kAYn4Uyq1v"
      }
    },
    {
      "cell_type": "code",
      "source": [
        "value = 5\n",
        "value2 = -6\n",
        "print(value, value2)"
      ],
      "metadata": {
        "colab": {
          "base_uri": "https://localhost:8080/"
        },
        "id": "GLfo2XyEyuA9",
        "outputId": "834a52b4-64cf-4a58-989a-67c914b2fddd"
      },
      "execution_count": 74,
      "outputs": [
        {
          "output_type": "stream",
          "name": "stdout",
          "text": [
            "5 -6\n"
          ]
        }
      ]
    },
    {
      "cell_type": "markdown",
      "source": [
        "Performing Operations with Python\n"
      ],
      "metadata": {
        "id": "GDCdM3qozVUA"
      }
    },
    {
      "cell_type": "code",
      "source": [
        "value, value2 = 5, 6\n",
        "print(value+value2)\n",
        "\n",
        "#a\n",
        "value, value2 = 5.0, 6\n",
        "print(value, value2)\n",
        "\n",
        "#b\n",
        "value, value2 = 5, 6.1\n",
        "print(value, value2)\n",
        "\n",
        "#c\n",
        "value, value2 = \"Hello\", \"World\"\n",
        "print(value, value2)\n",
        "\n",
        "#d\n",
        "value, value2 = [1,2,3], [4,5,6]\n",
        "print(value, value2)\n",
        "\n",
        "#e\n",
        "value, value2 = (1,2,3), (4,5,6)\n",
        "print(value, value2)\n",
        "\n",
        "#f\n",
        "value, value2 = {\"name\":\"Royce\"}, {\"age\":2}\n",
        "print(value, value2)\n",
        "\n",
        "value, value2 = 30, 4\n",
        "#a\n",
        "print(value*value2)\n",
        "\n",
        "#b\n",
        "print(value2**2)\n",
        "\n",
        "#c\n",
        "print(value2**3)\n",
        "\n",
        "#d\n",
        "print(value*value2+value2**2+1)\n",
        "\n",
        "#3\n",
        "print(value/value2)\n",
        "\n",
        "#f\n",
        "print(value%value2)"
      ],
      "metadata": {
        "colab": {
          "base_uri": "https://localhost:8080/"
        },
        "id": "-MMHbj_YzYXg",
        "outputId": "29701501-6557-4871-f54d-a535c42ec3a3"
      },
      "execution_count": 119,
      "outputs": [
        {
          "output_type": "stream",
          "name": "stdout",
          "text": [
            "11\n",
            "5.0 6\n",
            "5 6.1\n",
            "Hello World\n",
            "[1, 2, 3] [4, 5, 6]\n",
            "(1, 2, 3) (4, 5, 6)\n",
            "{'name': 'Royce'} {'age': 2}\n",
            "120\n",
            "16\n",
            "64\n",
            "137\n",
            "7.5\n",
            "2\n"
          ]
        }
      ]
    },
    {
      "cell_type": "markdown",
      "source": [
        "Receiving Input Data using Python"
      ],
      "metadata": {
        "id": "8Cb6r6WO3Dmc"
      }
    },
    {
      "cell_type": "code",
      "source": [
        "input(\"Message Name\")\n",
        "name = input(\"Enter your name: \")"
      ],
      "metadata": {
        "colab": {
          "base_uri": "https://localhost:8080/"
        },
        "id": "jREu1WhT3GFQ",
        "outputId": "dcd0e1e2-ae93-4378-81c2-fd0e0648c8ec"
      },
      "execution_count": 108,
      "outputs": [
        {
          "name": "stdout",
          "output_type": "stream",
          "text": [
            "Message Nameken\n",
            "Enter your name: ken\n"
          ]
        }
      ]
    },
    {
      "cell_type": "markdown",
      "source": [
        "Assigning Input Data to a Variable"
      ],
      "metadata": {
        "id": "bxFDtvqY3cos"
      }
    },
    {
      "cell_type": "code",
      "source": [
        "name = input(\"Enter your name: \")\n",
        "print(name)\n",
        "\n",
        "weight = float(input(\"Enter your weight: \"))\n",
        "print(weight)\n",
        "\n",
        "height = float(input(\"Enter your height: \"))\n",
        "print(height)\n",
        "\n",
        "bmi = (weight/(height*height))\n",
        "print(bmi)"
      ],
      "metadata": {
        "colab": {
          "base_uri": "https://localhost:8080/"
        },
        "id": "dL2tWm5r3GZc",
        "outputId": "2ae03b04-6de5-414a-d647-6e6947b7615f"
      },
      "execution_count": 118,
      "outputs": [
        {
          "output_type": "stream",
          "name": "stdout",
          "text": [
            "Enter your name: John Ray\n",
            "John Ray\n",
            "Enter your weight: 60\n",
            "60.0\n",
            "Enter your height: 1.6764\n",
            "1.6764\n",
            "21.349904958763087\n"
          ]
        }
      ]
    },
    {
      "cell_type": "markdown",
      "source": [
        "Supplementary Activity:"
      ],
      "metadata": {
        "id": "OY5lH7fd7uJT"
      }
    },
    {
      "cell_type": "code",
      "source": [
        "#Write the Python equivalent code of the following C code:\n",
        "\n",
        "base = float(input(\"Enter the base of the triangle: \"))\n",
        "height = float(input(\"Enter the height of the triangle: \"))\n",
        "area = ((base*height)/2)\n",
        "print(\"The area of the triangle is: \", area)\n"
      ],
      "metadata": {
        "colab": {
          "base_uri": "https://localhost:8080/"
        },
        "id": "6NUmIs2U3GSI",
        "outputId": "097e4b13-dccb-4e2a-b9c5-fb8db1c62981"
      },
      "execution_count": 128,
      "outputs": [
        {
          "output_type": "stream",
          "name": "stdout",
          "text": [
            "Enter the base of the triangle: 2\n",
            "Enter the height of the triangle: 3\n",
            "The area of the triangle is:  3.0\n"
          ]
        }
      ]
    },
    {
      "cell_type": "code",
      "source": [
        "#2.\tWrite a program that would convert Celsius to Fahrenheit given the formula: F = (C × 9/5) + 32 Example of conversion: 0°C = 32 °F-20°C = -4 °F\n",
        "\n",
        "celsius = float(input(\"Enter temperature (Celsius): \"))\n",
        "temperature = ((celsius*9/5)+32)\n",
        "print(\"The temperature in fahrenheit is: \", temperature)"
      ],
      "metadata": {
        "colab": {
          "base_uri": "https://localhost:8080/"
        },
        "id": "LfZVU3EA7-21",
        "outputId": "15dfc20b-3965-4b52-a0ac-079d2eea5f24"
      },
      "execution_count": 131,
      "outputs": [
        {
          "output_type": "stream",
          "name": "stdout",
          "text": [
            "Enter temperature (Celsius): 36\n",
            "The temperature in fahrenheit is:  96.8\n"
          ]
        }
      ]
    },
    {
      "cell_type": "code",
      "source": [
        "#3.\tWrite a program that can determine the distance between two points given the coordinates using the formula:\n",
        "\n",
        "import math\n",
        "x1 = float(input(\"Enter x1: \"))\n",
        "y1 = float(input(\"Enter y1: \"))\n",
        "x2 = float(input(\"Enter x2: \"))\n",
        "y2 = float(input(\"Enter y2: \"))\n",
        "\n",
        "distance = math.sqrt((x2 - x1) ** 2 + (y2 - y1) ** 2)\n",
        "print (\"The distance between two points is: \", distance)\n"
      ],
      "metadata": {
        "colab": {
          "base_uri": "https://localhost:8080/"
        },
        "id": "VQ9M39Mj85J2",
        "outputId": "497d27e8-e2a1-40d7-e145-29b042891c44"
      },
      "execution_count": 145,
      "outputs": [
        {
          "output_type": "stream",
          "name": "stdout",
          "text": [
            "Enter x1: 1\n",
            "Enter y1: 2\n",
            "Enter x2: 3\n",
            "Enter y2: 4\n",
            "The distance between two points is:  2.8284271247461903\n"
          ]
        }
      ]
    }
  ]
}