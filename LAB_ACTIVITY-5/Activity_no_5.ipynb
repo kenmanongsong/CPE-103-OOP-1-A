{
  "nbformat": 4,
  "nbformat_minor": 0,
  "metadata": {
    "colab": {
      "provenance": [],
      "authorship_tag": "ABX9TyNJpsSd7RQU0uE92biNlFsl",
      "include_colab_link": true
    },
    "kernelspec": {
      "name": "python3",
      "display_name": "Python 3"
    },
    "language_info": {
      "name": "python"
    }
  },
  "cells": [
    {
      "cell_type": "markdown",
      "metadata": {
        "id": "view-in-github",
        "colab_type": "text"
      },
      "source": [
        "<a href=\"https://colab.research.google.com/github/kenmanongsong/CPE-103-OOP-1-A/blob/main/Activity_no_5.ipynb\" target=\"_parent\"><img src=\"https://colab.research.google.com/assets/colab-badge.svg\" alt=\"Open In Colab\"/></a>"
      ]
    },
    {
      "cell_type": "markdown",
      "source": [
        "#BUILT-IN FUNCTIONS"
      ],
      "metadata": {
        "id": "cwnNzUZOilCJ"
      }
    },
    {
      "cell_type": "code",
      "execution_count": 1,
      "metadata": {
        "colab": {
          "base_uri": "https://localhost:8080/"
        },
        "id": "xIpjltnbe2QH",
        "outputId": "a71bf02d-7611-4bca-fa8a-085dfe78749b"
      },
      "outputs": [
        {
          "output_type": "stream",
          "name": "stdout",
          "text": [
            "Propositional logic evaluator for discrete math\n",
            "How many variables? 2\n",
            "Enter the propositional logic expression: A\n",
            "A B f\n",
            "0 0 0\n",
            "0 1 0\n",
            "1 0 1\n",
            "1 1 1\n"
          ]
        }
      ],
      "source": [
        "print(\"Propositional logic evaluator for discrete math\")\n",
        "\n",
        "variables = int(input(\"How many variables? \"))\n",
        "total_combinations = 2**variables\n",
        "\n",
        "combinations_list = []\n",
        "\n",
        "\n",
        "for i in range(total_combinations):\n",
        "    bin_equivalent = bin(i)[2:]\n",
        "    while len(bin_equivalent) <variables:\n",
        "        bin_equivalent=\"0\"+bin_equivalent\n",
        "    combinations_list.append(tuple (int(val) for val in bin_equivalent))\n",
        "\n",
        "expression = input(\"Enter the propositional logic expression: \")\n",
        "\n",
        "if variables == 2:\n",
        "    print(\"A B f\")\n",
        "    for A, B in combinations_list:\n",
        "        evaluated_expression = eval(expression)\n",
        "        print(A, B, evaluated_expression)\n",
        "\n",
        "elif variables == 3:\n",
        "    print(\"A B C f\")\n",
        "    for A,B,C in combinations_list:\n",
        "        evaluated_expression = eval(expression)\n",
        "        print (A, B, C, evaluated_expression)"
      ]
    },
    {
      "cell_type": "markdown",
      "source": [
        "#FILE HANDLING"
      ],
      "metadata": {
        "id": "7Tzrys0eh_aA"
      }
    },
    {
      "cell_type": "code",
      "source": [
        "name = \"Royce Chua\"\n",
        "file = open(\"newfile1.txt\", 'w')\n",
        "\n",
        "file.write(f\"Hello, {name}!\\n\")\n",
        "file.write(\"Isn't this amazing!\\n\")\n",
        "\n",
        "file.write(\"that we can create and write on text files\\n\")\n",
        "file.write(\"using Python.\")\n",
        "\n",
        "file.close()\n",
        "file = open(\"newfile1.txt\", \"r\")\n",
        "data = file.read()\n",
        "print(data)\n",
        "file.close()\n"
      ],
      "metadata": {
        "id": "S9j1X4yoh_Jo",
        "colab": {
          "base_uri": "https://localhost:8080/"
        },
        "outputId": "770604cb-56af-4d19-9a40-d4e2ba709ad2"
      },
      "execution_count": 2,
      "outputs": [
        {
          "output_type": "stream",
          "name": "stdout",
          "text": [
            "Hello, Royce Chua!\n",
            "Isn't this amazing!\n",
            "that we can create and write on text files\n",
            "using Python.\n"
          ]
        }
      ]
    },
    {
      "cell_type": "markdown",
      "source": [],
      "metadata": {
        "id": "JF1yfevkis94"
      }
    },
    {
      "cell_type": "code",
      "source": [
        "name = \"Royce Chua\"\n",
        "file = open(\"new.txt\", 'w')\n",
        "\n",
        "file.write(f\"Hello, {name}!\\n\")\n",
        "file.write(\"This was created using Python!\\n\")\n",
        "file.close()\n",
        "\n",
        "file = open(\"newfile2.txt\", \"r\")\n",
        "data = file.read()\n",
        "print(data)\n",
        "file.close()\n",
        "\n",
        "file = open(\"newfile2.txt\", 'a')\n",
        "file.write(\"and also by the programmer of course. \")\n",
        "file.close()"
      ],
      "metadata": {
        "id": "qW9VzmfwjSKa",
        "colab": {
          "base_uri": "https://localhost:8080/"
        },
        "outputId": "75b69cb6-2ba1-4173-8293-bab17ad51feb"
      },
      "execution_count": 3,
      "outputs": [
        {
          "output_type": "stream",
          "name": "stdout",
          "text": [
            "Hello, Royce Chua!\n",
            "This was created using Python!\n",
            "and also by the programmer of course. and also by the programmer of course. and also by the programmer of course. \n"
          ]
        }
      ]
    },
    {
      "cell_type": "markdown",
      "source": [
        "#USERFUNCTIONS"
      ],
      "metadata": {
        "id": "MSHKcXSwjSdg"
      }
    },
    {
      "cell_type": "code",
      "source": [
        "def generate_truthtable(number_of_variables):\n",
        "    total_combinations = 2**number_of_variables\n",
        "    combinations_list = []\n",
        "    for i in range(total_combinations):\n",
        "        bin_equivalent = bin(i)[2:]\n",
        "        while len(bin_equivalent) < number_of_variables:\n",
        "            bin_equivalent = \"0\" + bin_equivalent\n",
        "        combinations_list.append(tuple(int(val) for val in bin_equivalent))\n",
        "    return combinations_list\n",
        "\n",
        "print(generate_truthtable(0))"
      ],
      "metadata": {
        "id": "95tBfFDVitNA",
        "colab": {
          "base_uri": "https://localhost:8080/"
        },
        "outputId": "3a597d63-29d0-40ff-a6b4-338842bcf60c"
      },
      "execution_count": 4,
      "outputs": [
        {
          "output_type": "stream",
          "name": "stdout",
          "text": [
            "[(0,)]\n"
          ]
        }
      ]
    },
    {
      "cell_type": "code",
      "source": [
        "def generate_truthtable(number_of_variables):\n",
        "    if number_of_variables == 0:\n",
        "        return \"You need to enter an integer\"\n",
        "    else:\n",
        "        total_combinations = 2**number_of_variables\n",
        "        combinations_list = []\n",
        "    for i in range(total_combinations):\n",
        "        bin_equivalent = bin(i)[2:]\n",
        "        while len(bin_equivalent) < number_of_variables:\n",
        "            bin_equivalent = \"0\" + bin_equivalent\n",
        "        combinations_list.append(tuple(int(val) for val in bin_equivalent))\n",
        "    return combinations_list\n",
        "\n",
        "print(generate_truthtable(0))"
      ],
      "metadata": {
        "id": "eErHbp_RmhnB",
        "colab": {
          "base_uri": "https://localhost:8080/"
        },
        "outputId": "df386cfb-92c3-426f-a292-b5b3da38b1e6"
      },
      "execution_count": 5,
      "outputs": [
        {
          "output_type": "stream",
          "name": "stdout",
          "text": [
            "You need to enter an integer\n"
          ]
        }
      ]
    },
    {
      "cell_type": "markdown",
      "source": [
        "#MODULES 1"
      ],
      "metadata": {
        "id": "ogz__adtmsAx"
      }
    },
    {
      "cell_type": "code",
      "source": [
        "import math\n",
        "\n",
        "def quadratic_formula(a,b,c):\n",
        "    if b**2-(4*a*c) < 0:\n",
        "        x1 = (complex(-b,math.floor(math.sqrt(abs(b**2-(4*a*c))))))/(2*a)\n",
        "        x2 = (complex(-b,-1*math.floor(math.sqrt(abs(b**2-(4*a*c))))))/(2*a)\n",
        "        return x1, x2\n",
        "    else:\n",
        "        x1 = (-b+math.sqrt(b**2-(4*a*c)))/(2*a)\n",
        "        x2 = (-b-math.sqrt(b**2-(4*a*c)))/(2*a)\n",
        "        return x1, x2\n",
        "\n",
        "print(quadratic_formula(1,2,3))\n",
        "\n",
        "import math"
      ],
      "metadata": {
        "id": "yuh73dwYmsO5",
        "colab": {
          "base_uri": "https://localhost:8080/"
        },
        "outputId": "134a83d9-0eb1-4734-ae4d-d00b5b429716"
      },
      "execution_count": 6,
      "outputs": [
        {
          "output_type": "stream",
          "name": "stdout",
          "text": [
            "((-1+1j), (-1-1j))\n"
          ]
        }
      ]
    },
    {
      "cell_type": "markdown",
      "source": [
        "#dateandtime.py"
      ],
      "metadata": {
        "id": "-QO8r5qPn2fT"
      }
    },
    {
      "cell_type": "code",
      "source": [
        "def angle_demo():\n",
        "    angle = math.sin(math.pi/2)\n",
        "\n",
        "    print(angle)\n",
        "\n",
        "    angle = math.sin(math.radians(90))\n",
        "\n",
        "    print(angle)\n",
        "\n",
        "angle_demo()"
      ],
      "metadata": {
        "id": "fvs8YJf6n20S",
        "colab": {
          "base_uri": "https://localhost:8080/"
        },
        "outputId": "64eb2717-7ea9-47ad-cba7-1bae9b9f4e46"
      },
      "execution_count": 7,
      "outputs": [
        {
          "output_type": "stream",
          "name": "stdout",
          "text": [
            "1.0\n",
            "1.0\n"
          ]
        }
      ]
    },
    {
      "cell_type": "code",
      "source": [
        "import time\n",
        "\n",
        "def pause():\n",
        "    for i in range(10,0,-1):\n",
        "        print(f\"The program will end in {i}..\")\n",
        "        time.sleep(1)\n",
        "\n",
        "pause()"
      ],
      "metadata": {
        "id": "90rZesT1n8eK",
        "colab": {
          "base_uri": "https://localhost:8080/"
        },
        "outputId": "806b2242-c220-4ee1-b1f5-a41175cbff94"
      },
      "execution_count": 8,
      "outputs": [
        {
          "output_type": "stream",
          "name": "stdout",
          "text": [
            "The program will end in 10..\n",
            "The program will end in 9..\n",
            "The program will end in 8..\n",
            "The program will end in 7..\n",
            "The program will end in 6..\n",
            "The program will end in 5..\n",
            "The program will end in 4..\n",
            "The program will end in 3..\n",
            "The program will end in 2..\n",
            "The program will end in 1..\n"
          ]
        }
      ]
    },
    {
      "cell_type": "code",
      "source": [
        "def current_time():\n",
        "    t = time.strftime(\"%I:%M%p\")\n",
        "    return t\n",
        "\n",
        "print(current_time())"
      ],
      "metadata": {
        "id": "rjJybIEPoB1b",
        "colab": {
          "base_uri": "https://localhost:8080/"
        },
        "outputId": "effb9aa2-eb92-46e6-c2ac-65de43e25e1c"
      },
      "execution_count": 9,
      "outputs": [
        {
          "output_type": "stream",
          "name": "stdout",
          "text": [
            "11:39AM\n"
          ]
        }
      ]
    },
    {
      "cell_type": "code",
      "source": [
        "def current_date():\n",
        "    d = time.strftime(\"%b %d %Y\")\n",
        "    return d\n",
        "\n",
        "print(current_date())"
      ],
      "metadata": {
        "id": "iFeKp-jXoJyz",
        "colab": {
          "base_uri": "https://localhost:8080/"
        },
        "outputId": "6187cbdf-0548-4582-b472-82f2d0f82af5"
      },
      "execution_count": 10,
      "outputs": [
        {
          "output_type": "stream",
          "name": "stdout",
          "text": [
            "Feb 15 2025\n"
          ]
        }
      ]
    },
    {
      "cell_type": "code",
      "source": [
        "import time\n",
        "\n",
        "def pause():\n",
        "    for i in range(10, 0, -1):\n",
        "        print(f\"The program will end in {i}..\")\n",
        "        time.sleep(1)\n",
        "\n",
        "\n",
        "def current_time():\n",
        "    t = time.strftime(\"%I:%M%p\")\n",
        "    return t\n",
        "\n",
        "def current_date():\n",
        "    d = time.strftime(\"%b %d %Y\")\n",
        "    return d\n",
        "\n",
        "print(\"The current time is\", current_time())\n",
        "print(\"The current date is\", current_date())"
      ],
      "metadata": {
        "id": "FwhefG1PpqEs",
        "colab": {
          "base_uri": "https://localhost:8080/"
        },
        "outputId": "4b972b7c-d664-4a16-e045-c076a925a216"
      },
      "execution_count": 11,
      "outputs": [
        {
          "output_type": "stream",
          "name": "stdout",
          "text": [
            "The current time is 11:39AM\n",
            "The current date is Feb 15 2025\n"
          ]
        }
      ]
    },
    {
      "cell_type": "markdown",
      "source": [
        "#SUPPLEMENTARY ACTIVITY - Simple Word Filter"
      ],
      "metadata": {
        "id": "3BQNKuxXr7NT"
      }
    },
    {
      "cell_type": "code",
      "source": [
        "text = \"My friend is an idiot he's such a bullshit\"\n",
        "censored_text = \"\"\n",
        "\n",
        "for word in text.split():\n",
        "    if word.lower() in ['idiot', 'bullshit']:\n",
        "        censored_text += \"*\" * len(word) + \" \"\n",
        "    else:\n",
        "        censored_text += word + \" \"\n",
        "\n",
        "print(censored_text)"
      ],
      "metadata": {
        "id": "FyieG_zDr6r7",
        "colab": {
          "base_uri": "https://localhost:8080/"
        },
        "outputId": "b4eedc5d-4a82-4a6e-a4cd-9a1a13e25e2e"
      },
      "execution_count": 12,
      "outputs": [
        {
          "output_type": "stream",
          "name": "stdout",
          "text": [
            "My friend is an ***** he's such a ******** \n"
          ]
        }
      ]
    },
    {
      "cell_type": "markdown",
      "source": [
        "#Projectile motion solver"
      ],
      "metadata": {
        "id": "YT1IqOG0A5Op"
      }
    },
    {
      "cell_type": "code",
      "source": [
        "import math\n",
        "\n",
        "def projectilemotion_solver(angle, speed):\n",
        "    g = 9.8\n",
        "    theta = math.radians(angle)\n",
        "\n",
        "    range_val = (speed**2 * math.sin(2 * theta)) / g\n",
        "    print(\"He jumped \"+ str(range_val), \"meters in the horizon direction\")\n",
        "\n",
        "    max_height = (speed**2 * math.sin(theta)**2) / (2 * g)\n",
        "    print(\"The maximum height is \"+ str(max_height),\"meters\")\n",
        "projectilemotion_solver (20.0, 11.0)\n"
      ],
      "metadata": {
        "id": "zLVKu_GIA5fy",
        "colab": {
          "base_uri": "https://localhost:8080/"
        },
        "outputId": "133cc89c-d12b-4c36-a9a1-8d6ca264257a"
      },
      "execution_count": 13,
      "outputs": [
        {
          "output_type": "stream",
          "name": "stdout",
          "text": [
            "He jumped 7.936459262456249 meters in the horizon direction\n",
            "The maximum height is 0.7221587342500931 meters\n"
          ]
        }
      ]
    },
    {
      "cell_type": "markdown",
      "source": [],
      "metadata": {
        "id": "O2jxMCOvXSEz"
      }
    },
    {
      "cell_type": "code",
      "source": [
        "import math\n",
        "\n",
        "def solve_quadratic(a, b, c):\n",
        "    discriminant = b**2 - 4*a*c\n",
        "    if discriminant > 0:\n",
        "        root1 = (-b + math.sqrt(discriminant)) / (2 * a)\n",
        "        root2 = (-b - math.sqrt(discriminant)) / (2 * a)\n",
        "        return root1, root2\n",
        "    elif discriminant == 0:\n",
        "        root = -b / (2 * a)\n",
        "        return root,\n",
        "    else:\n",
        "        return \"No Real Roots\"\n",
        "\n",
        "def log_to_file(a, b, c, result):\n",
        "    with open(\"quadratic_solver_log.txt\", \"a\") as file:\n",
        "        file.write(f\"Equation: {a}x^2 + {b}x + {c} = 0\\n\")\n",
        "        file.write(f\"Solution: {result}\\n\")\n",
        "        file.write(\"-\" * 30 + \"\\n\")\n",
        "\n",
        "def main():\n",
        "    try:\n",
        "        a = float(input(\"Enter coefficient a: \"))\n",
        "        b = float(input(\"Enter coefficient b: \"))\n",
        "        c = float(input(\"Enter coefficient c: \"))\n",
        "\n",
        "        if a == 0:\n",
        "            print(\"Coefficient 'a' cannot be zero in a quadratic equation.\")\n",
        "            return\n",
        "\n",
        "        result = solve_quadratic(a, b, c)\n",
        "        print(\"Solution:\", result)\n",
        "        log_to_file(a, b, c, result)\n",
        "    except ValueError:\n",
        "        print(\"Invalid input! Please enter numerical values.\")\n",
        "\n",
        "if __name__ == \"__main__\":\n",
        "    main()\n"
      ],
      "metadata": {
        "id": "vS-b10TDXR4M",
        "colab": {
          "base_uri": "https://localhost:8080/"
        },
        "outputId": "ffa69b6f-b90e-4bc6-d147-b2a5387149a7"
      },
      "execution_count": 16,
      "outputs": [
        {
          "output_type": "stream",
          "name": "stdout",
          "text": [
            "Enter coefficient a: 6\n",
            "Enter coefficient b: 18\n",
            "Enter coefficient c: 0.25\n",
            "Solution: (-0.013953791656082792, -2.9860462083439168)\n"
          ]
        }
      ]
    }
  ]
}