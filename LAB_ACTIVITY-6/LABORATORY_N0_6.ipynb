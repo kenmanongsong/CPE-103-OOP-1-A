{
  "nbformat": 4,
  "nbformat_minor": 0,
  "metadata": {
    "colab": {
      "provenance": [],
      "authorship_tag": "ABX9TyMt2ePDvSJMDbxPw044vWMP",
      "include_colab_link": true
    },
    "kernelspec": {
      "name": "python3",
      "display_name": "Python 3"
    },
    "language_info": {
      "name": "python"
    }
  },
  "cells": [
    {
      "cell_type": "markdown",
      "metadata": {
        "id": "view-in-github",
        "colab_type": "text"
      },
      "source": [
        "<a href=\"https://colab.research.google.com/github/kenmanongsong/CPE-103-OOP-1-A/blob/main/LABORATORY_N0_6.ipynb\" target=\"_parent\"><img src=\"https://colab.research.google.com/assets/colab-badge.svg\" alt=\"Open In Colab\"/></a>"
      ]
    },
    {
      "cell_type": "markdown",
      "source": [
        "#oopfa1_Manongsong"
      ],
      "metadata": {
        "id": "xNG85I2eVNHX"
      }
    },
    {
      "cell_type": "code",
      "execution_count": 78,
      "metadata": {
        "colab": {
          "base_uri": "https://localhost:8080/"
        },
        "id": "Ms0vd2lzUBiP",
        "outputId": "d875971a-228f-4f14-84b1-3fc2c360b395"
      },
      "outputs": [
        {
          "output_type": "stream",
          "name": "stdout",
          "text": [
            "KEN R. M.\n",
            "KEN R. M.\n"
          ]
        }
      ],
      "source": [
        "class Character():\n",
        "    def __init__(self, username):\n",
        "        self._username = username\n",
        "        self._hp = 100\n",
        "        self._mana = 100\n",
        "        self._damage = 5\n",
        "        self._str = 0  # strength stat\n",
        "        self._vit = 0  # vitality stat\n",
        "        self._int = 0  # intelligence stat\n",
        "        self._agi = 0  # agility stat\n",
        "\n",
        "    def getUsername(self):\n",
        "        return self._username\n",
        "\n",
        "    def setUsername(self, new_username):\n",
        "        self._username = new_username\n",
        "\n",
        "    def getHp(self):\n",
        "        return self._hp\n",
        "\n",
        "    def setHp(self, new_hp):\n",
        "        self._hp = new_hp\n",
        "\n",
        "    def getDamage(self):\n",
        "        return self._damage\n",
        "\n",
        "    def setDamage(self, new_damage):\n",
        "        self._damage = new_damage\n",
        "\n",
        "    def getStr(self):\n",
        "        return self._str\n",
        "\n",
        "    def setStr(self, new_str):\n",
        "        self._str = new_str\n",
        "\n",
        "    def getVit(self):\n",
        "        return self._vit\n",
        "\n",
        "    def setVit(self, new_vit):\n",
        "        self._vit = new_vit\n",
        "\n",
        "    def getInt(self):\n",
        "        return self._int\n",
        "\n",
        "    def setInt(self, new_int):\n",
        "        self._int = new_int\n",
        "\n",
        "    def getAgi(self):\n",
        "        return self._agi\n",
        "\n",
        "    def setAgi(self, new_agi):\n",
        "        self._agi = new_agi\n",
        "\n",
        "    def reduceHp(self, damage_amount):\n",
        "        self._hp = self._hp - damage_amount\n",
        "\n",
        "    def addHp(self, heal_amount):\n",
        "        self._hp = self._hp + heal_amount\n",
        "\n",
        "\n",
        "character1 = Character(\"KEN R. M.\")\n",
        "print(character1._username)\n",
        "print(character1.getUsername())"
      ]
    },
    {
      "cell_type": "markdown",
      "source": [
        "#SINGLE INHERITANCE"
      ],
      "metadata": {
        "id": "AVv1wW5MaHJl"
      }
    },
    {
      "cell_type": "code",
      "source": [
        "class Novice(Character):\n",
        "    def basicAttack(self, character):\n",
        "      character.reduceHp(self.getDamage())\n",
        "      print(f\"{self.getUsername()} performed Basic Attack! -{self.getDamage()}\")\n",
        "character1 = Novice(\"KEN R. M.\")\n",
        "print(character1.getUsername())\n",
        "print(character1.getHp())"
      ],
      "metadata": {
        "colab": {
          "base_uri": "https://localhost:8080/"
        },
        "id": "DXs9dYOgUrJ2",
        "outputId": "e2d9efac-aed6-4d25-9847-84e003f3ac28"
      },
      "execution_count": 79,
      "outputs": [
        {
          "output_type": "stream",
          "name": "stdout",
          "text": [
            "KEN R. M.\n",
            "100\n"
          ]
        }
      ]
    },
    {
      "cell_type": "markdown",
      "source": [
        "#MULTI-LEVEL INHERITANCE"
      ],
      "metadata": {
        "id": "YjYrAdtHZ2zl"
      }
    },
    {
      "cell_type": "code",
      "source": [
        "class Swordsman(Novice):\n",
        "    def __init__(self, username):\n",
        "        super().__init__(username)\n",
        "        self.setStr(5)\n",
        "        self.setVit(10)\n",
        "        self.setHp(self.getHp() + self.getVit())\n",
        "\n",
        "    def slashAttack(self, character):\n",
        "        self.new_damage = self.getDamage() + self.getStr()\n",
        "        character.reduceHp(self.new_damage)\n",
        "        print(f\"{self.getUsername()} performed Slash Attack! -{self.new_damage}\")\n",
        "\n",
        "class Archer(Novice):\n",
        "    def __init__(self, username):\n",
        "        super().__init__(username)\n",
        "        self.setAgi(5)\n",
        "        self.setInt(5)\n",
        "        self.setVit(5)\n",
        "        self.setHp(self.getHp() + self.getVit())\n",
        "\n",
        "    def rangedAttack(self, character):\n",
        "        self.new_damage = self.getDamage() + random.randint(0, self.getInt())\n",
        "        character.reduceHp(self.new_damage)\n",
        "        print(f\"{self.getUsername()} performed Slash Attack! -{self.new_damage}\")\n",
        "\n",
        "class Magician(Novice):\n",
        "    def __init__(self, username):\n",
        "        super().__init__(username)\n",
        "        self.setInt(10)\n",
        "        self.setVit(5)\n",
        "        self.setHp(self.getHp() + self.getVit())\n",
        "\n",
        "    def heal(self):\n",
        "        self.addHp(self.getInt())\n",
        "        print(f\"{self.getUsername()} performed Heal! +{self.getInt()}\")\n",
        "\n",
        "    def magicAttack(self, character):\n",
        "        self.new_damage = self.getDamage() + self.getInt()\n",
        "        character.reduceHp(self.new_damage)\n",
        "        print(f\"{self.getUsername()} performed Magic Attack! -{self.new_damage}\")"
      ],
      "metadata": {
        "id": "4Iv0oUo4UudF"
      },
      "execution_count": 80,
      "outputs": []
    },
    {
      "cell_type": "markdown",
      "source": [
        "#MULTIPLE INHERITANCE"
      ],
      "metadata": {
        "id": "vFP2n0QRZ4i8"
      }
    },
    {
      "cell_type": "code",
      "source": [
        "Character1 = Swordsman(\"KEN\")\n",
        "Character2 = Magician(\"VOLOKDIK\")\n",
        "\n",
        "print(f\"{Character1.getUsername()} HP: {Character1.getHp()}\")\n",
        "print(f\"{Character2.getUsername()} HP: {Character2.getHp()}\")\n",
        "\n",
        "Character1.slashAttack(Character2)\n",
        "Character1.basicAttack(Character2)\n",
        "\n",
        "print(f\"{Character1.getUsername()} HP: {Character1.getHp()}\")\n",
        "print(f\"{Character2.getUsername()} HP: {Character2.getHp()}\")\n",
        "\n",
        "Character2.heal()\n",
        "Character2.magicAttack(Character1)\n",
        "\n",
        "print(f\"{Character1.getUsername()} HP: {Character1.getHp()}\")\n",
        "print(f\"{Character2.getUsername()} HP: {Character2.getHp()}\")"
      ],
      "metadata": {
        "colab": {
          "base_uri": "https://localhost:8080/"
        },
        "id": "3Ksbc57VU4iG",
        "outputId": "8fce3062-9dda-440a-b82e-ba18762a00c2"
      },
      "execution_count": 81,
      "outputs": [
        {
          "output_type": "stream",
          "name": "stdout",
          "text": [
            "KEN HP: 110\n",
            "VOLOKDIK HP: 105\n",
            "KEN performed Slash Attack! -10\n",
            "KEN performed Basic Attack! -5\n",
            "KEN HP: 110\n",
            "VOLOKDIK HP: 90\n",
            "VOLOKDIK performed Heal! +10\n",
            "VOLOKDIK performed Magic Attack! -15\n",
            "KEN HP: 95\n",
            "VOLOKDIK HP: 100\n"
          ]
        }
      ]
    },
    {
      "cell_type": "markdown",
      "source": [],
      "metadata": {
        "id": "Is3MuYVrZ5g0"
      }
    },
    {
      "cell_type": "code",
      "source": [
        "class Boss(Swordsman, Archer, Magician):\n",
        "    def __init__(self, username):\n",
        "        super().__init__(username)\n",
        "        self.setStr(10)\n",
        "        self.setVit(25)\n",
        "        self.setInt(5)\n",
        "        self.setHp(self.getHp() + self.getVit())"
      ],
      "metadata": {
        "id": "DUvU_4iAU4uV"
      },
      "execution_count": 82,
      "outputs": []
    },
    {
      "cell_type": "code",
      "source": [
        "Character1 = Swordsman(\"KEN\")\n",
        "Character2 = Boss(\"AMPONG\")\n",
        "\n",
        "print(f\"{Character1.getUsername()} HP: {Character1.getHp()}\")\n",
        "print(f\"{Character2.getUsername()} HP: {Character2.getHp()}\")\n",
        "\n",
        "Character1.slashAttack(Character2)\n",
        "Character1.basicAttack(Character2)\n",
        "\n",
        "print(f\"{Character1.getUsername()} HP: {Character1.getHp()}\")\n",
        "print(f\"{Character2.getUsername()} HP: {Character2.getHp()}\")\n",
        "\n",
        "Character2.heal()\n",
        "Character2.basicAttack(Character1)\n",
        "Character2.slashAttack(Character1)\n",
        "Character2.rangedAttack(Character1)\n",
        "Character2.magicAttack(Character1)\n",
        "\n",
        "print(f\"{Character1.getUsername()} HP: {Character1.getHp()}\")\n",
        "print(f\"{Character2.getUsername()} HP: {Character2.getHp()}\")"
      ],
      "metadata": {
        "colab": {
          "base_uri": "https://localhost:8080/"
        },
        "id": "os7ayZGaU9El",
        "outputId": "2fa71754-4eb5-47d4-d8ea-eb9f8c380f1a"
      },
      "execution_count": 83,
      "outputs": [
        {
          "output_type": "stream",
          "name": "stdout",
          "text": [
            "KEN HP: 110\n",
            "AMPONG HP: 145\n",
            "KEN performed Slash Attack! -10\n",
            "KEN performed Basic Attack! -5\n",
            "KEN HP: 110\n",
            "AMPONG HP: 130\n",
            "AMPONG performed Heal! +5\n",
            "AMPONG performed Basic Attack! -5\n",
            "AMPONG performed Slash Attack! -15\n",
            "AMPONG performed Slash Attack! -5\n",
            "AMPONG performed Magic Attack! -10\n",
            "KEN HP: 75\n",
            "AMPONG HP: 135\n"
          ]
        }
      ]
    },
    {
      "cell_type": "markdown",
      "source": [
        "#TASK"
      ],
      "metadata": {
        "id": "YwFrmS_WfibD"
      }
    },
    {
      "cell_type": "code",
      "source": [
        "import random\n",
        "\n",
        "def single_player_mode():\n",
        "    \"\"\"\n",
        "    In single player mode, the player starts as a Novice.\n",
        "    After winning 2 matches, the player can choose a new role (Swordsman, Archer, or Magician).\n",
        "    The opponent is always a Boss named 'Monster'.\n",
        "    \"\"\"\n",
        "    wins = 0\n",
        "    player_name = input(\"Enter your username: \")\n",
        "    # Start as Novice\n",
        "    player = Novice(player_name)\n",
        "    print(f\"Welcome, {player.getUsername()}! You are starting as a Novice.\")\n",
        "\n",
        "    while True:\n",
        "        print(\"\\n--- New Match ---\")\n",
        "        # Create a Boss opponent for each match\n",
        "        boss = Boss(\"Monster\")\n",
        "\n",
        "        # Randomize turn order\n",
        "        combatants = [player, boss]\n",
        "        random.shuffle(combatants)\n",
        "        print(f\"Turn order: {combatants[0].getUsername()} will attack first.\")\n",
        "\n",
        "        # Battle loop: continue until one combatant's HP is zero or less.\n",
        "        while player.getHp() > 0 and boss.getHp() > 0:\n",
        "            for combatant in combatants:\n",
        "                # If someone has been knocked out, break out immediately.\n",
        "                if player.getHp() <= 0 or boss.getHp() <= 0:\n",
        "                    break\n",
        "\n",
        "                if combatant == player:\n",
        "                    print(f\"{player.getUsername()} attacks!\")\n",
        "                    # Example: damage is a random integer; replace this with your actual attack method if available.\n",
        "                    damage = random.randint(10, 20)\n",
        "                    # Assuming Boss has an internal method to reduce HP, you might call: boss.take_damage(damage)\n",
        "                    # For demonstration, we directly adjust an assumed 'hp' attribute.\n",
        "                    #boss.hp -= damage\n",
        "                    boss.reduceHp(damage)\n",
        "                    print(f\"You inflicted {damage} damage to {boss.getUsername()}. (Boss HP: {max(boss.getHp(), 0)})\")\n",
        "                else:\n",
        "                    print(f\"{boss.getUsername()} attacks!\")\n",
        "                    damage = random.randint(5, 15)\n",
        "                    #player.hp -= damage\n",
        "                    player.reduceHp(damage)\n",
        "                    print(f\"{boss.getUsername()} inflicted {damage} damage to {player.getUsername()}. (Your HP: {max(player.getHp(), 0)})\")\n",
        "\n",
        "        # Determine match outcome\n",
        "        if player.getHp() > 0:\n",
        "            wins += 1\n",
        "            print(\"You won this match!\")\n",
        "        else:\n",
        "            print(\"You lost this match!\")\n",
        "\n",
        "        print(f\"Total Wins: {wins}\")\n",
        "\n",
        "        # After 2 wins, allow the player to choose a new role.\n",
        "        if wins >= 2:\n",
        "            print(\"\\nCongratulations! You've won 2 matches.\")\n",
        "            print(\"You can now select a new role:\")\n",
        "            print(\"1. Swordsman\")\n",
        "            print(\"2. Archer\")\n",
        "            print(\"3. Magician\")\n",
        "            choice = input(\"Enter your choice (1-3): \")\n",
        "            if choice == \"1\":\n",
        "                player = Swordsman(player_name)\n",
        "            elif choice == \"2\":\n",
        "                player = Archer(player_name)\n",
        "            elif choice == \"3\":\n",
        "                player = Magician(player_name)\n",
        "            else:\n",
        "                print(\"Invalid choice. Continuing as your current role.\")\n",
        "\n",
        "        # Ask if the player wants to continue\n",
        "        play_again = input(\"Do you want to play another match? (y/n): \")\n",
        "        if play_again.lower() != \"y\":\n",
        "            break\n",
        "\n",
        "        # Reset player HP by creating a new instance of the same role.\n",
        "        current_role = type(player)\n",
        "        player = current_role(player_name)\n",
        "\n",
        "def player_vs_player_mode():\n",
        "    \"\"\"\n",
        "    In Player vs Player mode, both players choose among Novice, Swordsman, Archer, or Magician (Boss is not allowed).\n",
        "    The match continues until one player's HP drops to zero.\n",
        "    \"\"\"\n",
        "    print(\"Player vs Player mode selected.\")\n",
        "    player1_name = input(\"Enter Player 1 username: \")\n",
        "    player2_name = input(\"Enter Player 2 username: \")\n",
        "\n",
        "    print(\"\\nAvailable roles:\")\n",
        "    print(\"1. Novice\")\n",
        "    print(\"2. Swordsman\")\n",
        "    print(\"3. Archer\")\n",
        "    print(\"4. Magician\")\n",
        "\n",
        "    choice1 = input(f\"{player1_name}, choose your role (1-4): \")\n",
        "    choice2 = input(f\"{player2_name}, choose your role (1-4): \")\n",
        "\n",
        "    role_dict = {\"1\": Novice, \"2\": Swordsman, \"3\": Archer, \"4\": Magician}\n",
        "    if choice1 in role_dict:\n",
        "        player1 = role_dict[choice1](player1_name)\n",
        "    else:\n",
        "        print(\"Invalid choice for Player 1. Defaulting to Novice.\")\n",
        "        player1 = Novice(player1_name)\n",
        "\n",
        "    if choice2 in role_dict:\n",
        "        player2 = role_dict[choice2](player2_name)\n",
        "    else:\n",
        "        print(\"Invalid choice for Player 2. Defaulting to Novice.\")\n",
        "        player2 = Novice(player2_name)\n",
        "\n",
        "    wins1 = 0\n",
        "    wins2 = 0\n",
        "\n",
        "    while True:\n",
        "        print(\"\\n--- New Match ---\")\n",
        "        # Randomize turn order\n",
        "        combatants = [player1, player2]\n",
        "        random.shuffle(combatants)\n",
        "        print(f\"Turn order: {combatants[0].getUsername()} will attack first.\")\n",
        "\n",
        "        # Battle loop until one player's HP is zero or less.\n",
        "        while player1.getHp() > 0 and player2.getHp() > 0:\n",
        "            for combatant in combatants:\n",
        "                if player1.getHp() <= 0 or player2.getHp() <= 0:\n",
        "                    break\n",
        "                print(f\"{combatant.getUsername()} attacks!\")\n",
        "                damage = random.randint(10, 20)\n",
        "                if combatant == player1:\n",
        "                    player2.reduceHp(damage)\n",
        "                    print(f\"{player1.getUsername()} inflicted {damage} damage to {player2.getUsername()}. (Player 2 HP: {max(player2.getHp(), 0)})\")\n",
        "                else:\n",
        "                    player1.reduceHp(damage)\n",
        "                    print(f\"{player2.getUsername()} inflicted {damage} damage to {player1.getUsername()}. (Player 1 HP: {max(player1.getHp(), 0)})\")\n",
        "\n",
        "        # Update win counts based on match result.\n",
        "        if player1.getHp() > 0:\n",
        "            wins1 += 1\n",
        "            print(f\"{player1.getUsername()} won this match!\")\n",
        "        else:\n",
        "            wins2 += 1\n",
        "            print(f\"{player2.getUsername()} won this match!\")\n",
        "\n",
        "        print(f\"Score: {player1.getUsername()} {wins1} - {wins2} {player2.getUsername()}\")\n",
        "\n",
        "        play_again = input(\"Do you want to play another match? (a or b): \")\n",
        "        if play_again.lower() != \"a\":\n",
        "            break\n",
        "\n",
        "        # Reset HP for the next match by reinitializing both players.\n",
        "        role1 = type(player1)\n",
        "        role2 = type(player2)\n",
        "        player1 = role1(player1_name)\n",
        "        player2 = role2(player2_name)\n",
        "\n",
        "def main():\n",
        "    print(\"Welcome to the Game!\")\n",
        "    print(\"Select game mode:\")\n",
        "    print(\"1. Single Player\")\n",
        "    print(\"2. Player vs Player\")\n",
        "    mode = input(\"Enter mode (1 or 2): \")\n",
        "\n",
        "    if mode == \"1\":\n",
        "        single_player_mode()\n",
        "    elif mode == \"2\":\n",
        "        player_vs_player_mode()\n",
        "    else:\n",
        "        print(\"Invalid mode selected.\")\n",
        "\n",
        "if __name__ == \"__main__\":\n",
        "  main()"
      ],
      "metadata": {
        "colab": {
          "base_uri": "https://localhost:8080/"
        },
        "id": "rjZ6SF_Tfinr",
        "outputId": "27f54d6b-a148-4fb5-bd2b-5b1bd65cda60"
      },
      "execution_count": 91,
      "outputs": [
        {
          "name": "stdout",
          "output_type": "stream",
          "text": [
            "Welcome to the Game!\n",
            "Select game mode:\n",
            "1. Single Player\n",
            "2. Player vs Player\n",
            "Enter mode (1 or 2): 2\n",
            "Player vs Player mode selected.\n",
            "Enter Player 1 username: ken\n",
            "Enter Player 2 username: jen\n",
            "\n",
            "Available roles:\n",
            "1. Novice\n",
            "2. Swordsman\n",
            "3. Archer\n",
            "4. Magician\n",
            "ken, choose your role (1-4): 1\n",
            "jen, choose your role (1-4): 4\n",
            "\n",
            "--- New Match ---\n",
            "Turn order: jen will attack first.\n",
            "jen attacks!\n",
            "jen inflicted 18 damage to ken. (Player 1 HP: 82)\n",
            "ken attacks!\n",
            "ken inflicted 18 damage to jen. (Player 2 HP: 87)\n",
            "jen attacks!\n",
            "jen inflicted 14 damage to ken. (Player 1 HP: 68)\n",
            "ken attacks!\n",
            "ken inflicted 16 damage to jen. (Player 2 HP: 71)\n",
            "jen attacks!\n",
            "jen inflicted 12 damage to ken. (Player 1 HP: 56)\n",
            "ken attacks!\n",
            "ken inflicted 10 damage to jen. (Player 2 HP: 61)\n",
            "jen attacks!\n",
            "jen inflicted 10 damage to ken. (Player 1 HP: 46)\n",
            "ken attacks!\n",
            "ken inflicted 13 damage to jen. (Player 2 HP: 48)\n",
            "jen attacks!\n",
            "jen inflicted 10 damage to ken. (Player 1 HP: 36)\n",
            "ken attacks!\n",
            "ken inflicted 11 damage to jen. (Player 2 HP: 37)\n",
            "jen attacks!\n",
            "jen inflicted 14 damage to ken. (Player 1 HP: 22)\n",
            "ken attacks!\n",
            "ken inflicted 18 damage to jen. (Player 2 HP: 19)\n",
            "jen attacks!\n",
            "jen inflicted 10 damage to ken. (Player 1 HP: 12)\n",
            "ken attacks!\n",
            "ken inflicted 13 damage to jen. (Player 2 HP: 6)\n",
            "jen attacks!\n",
            "jen inflicted 17 damage to ken. (Player 1 HP: 0)\n",
            "jen won this match!\n",
            "Score: ken 0 - 1 jen\n",
            "Do you want to play another match? (a or b): a\n",
            "\n",
            "--- New Match ---\n",
            "Turn order: ken will attack first.\n",
            "ken attacks!\n",
            "ken inflicted 12 damage to jen. (Player 2 HP: 93)\n",
            "jen attacks!\n",
            "jen inflicted 19 damage to ken. (Player 1 HP: 81)\n",
            "ken attacks!\n",
            "ken inflicted 14 damage to jen. (Player 2 HP: 79)\n",
            "jen attacks!\n",
            "jen inflicted 20 damage to ken. (Player 1 HP: 61)\n",
            "ken attacks!\n",
            "ken inflicted 16 damage to jen. (Player 2 HP: 63)\n",
            "jen attacks!\n",
            "jen inflicted 14 damage to ken. (Player 1 HP: 47)\n",
            "ken attacks!\n",
            "ken inflicted 13 damage to jen. (Player 2 HP: 50)\n",
            "jen attacks!\n",
            "jen inflicted 18 damage to ken. (Player 1 HP: 29)\n",
            "ken attacks!\n",
            "ken inflicted 13 damage to jen. (Player 2 HP: 37)\n",
            "jen attacks!\n",
            "jen inflicted 17 damage to ken. (Player 1 HP: 12)\n",
            "ken attacks!\n",
            "ken inflicted 15 damage to jen. (Player 2 HP: 22)\n",
            "jen attacks!\n",
            "jen inflicted 15 damage to ken. (Player 1 HP: 0)\n",
            "jen won this match!\n",
            "Score: ken 0 - 2 jen\n",
            "Do you want to play another match? (a or b): b\n"
          ]
        }
      ]
    }
  ]
}