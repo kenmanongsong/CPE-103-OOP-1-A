{
  "nbformat": 4,
  "nbformat_minor": 0,
  "metadata": {
    "colab": {
      "provenance": [],
      "authorship_tag": "ABX9TyO/7nt9ke+RNlFAMkGjxmAy",
      "include_colab_link": true
    },
    "kernelspec": {
      "name": "python3",
      "display_name": "Python 3"
    },
    "language_info": {
      "name": "python"
    }
  },
  "cells": [
    {
      "cell_type": "markdown",
      "metadata": {
        "id": "view-in-github",
        "colab_type": "text"
      },
      "source": [
        "<a href=\"https://colab.research.google.com/github/kenmanongsong/CPE-103-OOP-1-A/blob/main/LAB_ACTIVITY_NO4.ipynb\" target=\"_parent\"><img src=\"https://colab.research.google.com/assets/colab-badge.svg\" alt=\"Open In Colab\"/></a>"
      ]
    },
    {
      "cell_type": "markdown",
      "source": [
        "#NUMBERLIST"
      ],
      "metadata": {
        "id": "QzZx7zz4Ijn1"
      }
    },
    {
      "cell_type": "code",
      "execution_count": null,
      "metadata": {
        "colab": {
          "base_uri": "https://localhost:8080/",
          "height": 314
        },
        "id": "b1we4PpRIchs",
        "outputId": "9fa33128-9544-427d-bee8-79fd65f6949d"
      },
      "outputs": [
        {
          "output_type": "stream",
          "name": "stdout",
          "text": [
            "5\n",
            "5\n",
            "4\n",
            "2\n",
            "1\n",
            "3\n"
          ]
        },
        {
          "output_type": "error",
          "ename": "IndexError",
          "evalue": "list index out of range",
          "traceback": [
            "\u001b[0;31m---------------------------------------------------------------------------\u001b[0m",
            "\u001b[0;31mIndexError\u001b[0m                                Traceback (most recent call last)",
            "\u001b[0;32m<ipython-input-39-359e6662006c>\u001b[0m in \u001b[0;36m<cell line: 0>\u001b[0;34m()\u001b[0m\n\u001b[1;32m      6\u001b[0m \u001b[0mprint\u001b[0m\u001b[0;34m(\u001b[0m\u001b[0mnumberlist\u001b[0m\u001b[0;34m[\u001b[0m\u001b[0;36m3\u001b[0m\u001b[0;34m]\u001b[0m\u001b[0;34m)\u001b[0m\u001b[0;34m\u001b[0m\u001b[0;34m\u001b[0m\u001b[0m\n\u001b[1;32m      7\u001b[0m \u001b[0mprint\u001b[0m\u001b[0;34m(\u001b[0m\u001b[0mnumberlist\u001b[0m\u001b[0;34m[\u001b[0m\u001b[0;36m4\u001b[0m\u001b[0;34m]\u001b[0m\u001b[0;34m)\u001b[0m\u001b[0;34m\u001b[0m\u001b[0;34m\u001b[0m\u001b[0m\n\u001b[0;32m----> 8\u001b[0;31m \u001b[0mprint\u001b[0m\u001b[0;34m(\u001b[0m\u001b[0mnumberlist\u001b[0m\u001b[0;34m[\u001b[0m\u001b[0;36m5\u001b[0m\u001b[0;34m]\u001b[0m\u001b[0;34m)\u001b[0m\u001b[0;34m\u001b[0m\u001b[0;34m\u001b[0m\u001b[0m\n\u001b[0m\u001b[1;32m      9\u001b[0m \u001b[0mprint\u001b[0m\u001b[0;34m(\u001b[0m\u001b[0mnumberlist\u001b[0m\u001b[0;34m[\u001b[0m\u001b[0;34m-\u001b[0m\u001b[0;36m1\u001b[0m\u001b[0;34m]\u001b[0m\u001b[0;34m)\u001b[0m\u001b[0;34m\u001b[0m\u001b[0;34m\u001b[0m\u001b[0m\n\u001b[1;32m     10\u001b[0m \u001b[0mprint\u001b[0m\u001b[0;34m(\u001b[0m\u001b[0mnumberlist\u001b[0m\u001b[0;34m[\u001b[0m\u001b[0;34m-\u001b[0m\u001b[0;36m2\u001b[0m\u001b[0;34m]\u001b[0m\u001b[0;34m)\u001b[0m\u001b[0;34m\u001b[0m\u001b[0;34m\u001b[0m\u001b[0m\n",
            "\u001b[0;31mIndexError\u001b[0m: list index out of range"
          ]
        }
      ],
      "source": [
        "numberlist = [5, 4, 2, 1, 3]\n",
        "print(len(numberlist))\n",
        "print(numberlist[0])\n",
        "print(numberlist[1])\n",
        "print(numberlist[2])\n",
        "print(numberlist[3])\n",
        "print(numberlist[4])\n",
        "print(numberlist[5])\n",
        "print(numberlist[-1])\n",
        "print(numberlist[-2])\n",
        "print(numberlist[-3])\n",
        "print(numberlist[-4])\n",
        "print(numberlist[-5])\n",
        "print(numberlist[-6])\n",
        "print()"
      ]
    },
    {
      "cell_type": "markdown",
      "source": [
        "\n",
        "\n",
        "```\n",
        "# I observed that the list of numbers in this output are ordered. The first number is 5 then it repeats one more time down to 1, then it ends with 3 as declared in the numberlist value\n",
        "```\n",
        "\n"
      ],
      "metadata": {
        "id": "pltFnUERcfm1"
      }
    },
    {
      "cell_type": "markdown",
      "source": [
        "#ITEMLIST"
      ],
      "metadata": {
        "id": "E8dEsNwQJg23"
      }
    },
    {
      "cell_type": "code",
      "source": [
        "itemlist = [1,-2.0,[1,2,3],\"Word\"]\n",
        "print(len(itemlist))\n",
        "print(itemlist [0])\n",
        "print(itemlist [1])\n",
        "print(itemlist [2])\n",
        "print(itemlist [3])\n",
        "print(len(itemlist[2]))\n",
        "print(itemlist [2][0])\n",
        "print(itemlist [2][1])\n",
        "print(itemlist [2][2])\n",
        "print(itemlist [-1])\n",
        "print(itemlist [-2])\n",
        "print(itemlist [-3])\n",
        "print(itemlist [-4])\n",
        "print(len(itemlist[-2]))\n",
        "print(itemlist[-2][0])\n",
        "print(itemlist[-2][1])\n",
        "print(itemlist[-2][2])\n",
        "print(itemlist[-2][-3])\n",
        "print(itemlist[-2][-2])\n",
        "print(itemlist[-2][-1])\n",
        "print()\n",
        "\n"
      ],
      "metadata": {
        "colab": {
          "base_uri": "https://localhost:8080/"
        },
        "id": "A-nIIpVtJ3xE",
        "outputId": "6f27ab72-57fb-4afc-b7d4-7dea02e992ba"
      },
      "execution_count": null,
      "outputs": [
        {
          "output_type": "stream",
          "name": "stdout",
          "text": [
            "4\n",
            "1\n",
            "-2.0\n",
            "[1, 2, 3]\n",
            "Word\n",
            "3\n",
            "1\n",
            "2\n",
            "3\n",
            "Word\n",
            "[1, 2, 3]\n",
            "-2.0\n",
            "1\n",
            "3\n",
            "1\n",
            "2\n",
            "3\n",
            "1\n",
            "2\n",
            "3\n",
            "\n"
          ]
        }
      ]
    },
    {
      "cell_type": "markdown",
      "source": [
        "\n",
        "\n",
        "```\n",
        "The print(len()) do two things which calculates the length of an object inside the parenthesis then displaying it afterwards\n",
        "```\n",
        "\n"
      ],
      "metadata": {
        "id": "-lh_euZ7c5al"
      }
    },
    {
      "cell_type": "markdown",
      "source": [
        "# Index Slicing"
      ],
      "metadata": {
        "id": "7HI3Jjp4LQwU"
      }
    },
    {
      "cell_type": "code",
      "source": [
        "longlist = numberlist + itemlist\n",
        "print(len(longlist))\n",
        "print(longlist [:])\n",
        "print(longlist[:9])\n",
        "print(longlist[0:])\n",
        "print(longlist[1:])\n",
        "print(longlist[2:])\n",
        "print(longlist[2:5])\n",
        "print(longlist[5:2])\n",
        "print(longlist[8:])\n",
        "print(longlist[9:])\n",
        "print()\n",
        "\n",
        "#Index Slicing using Negative Indices\n",
        "print(longlist[-9:])\n",
        "print(longlist[-8:])\n",
        "print(longlist[-8:-7])\n",
        "print(longlist[-1:])\n",
        "print()\n",
        "\n",
        "#Other properties of Index Slicing\n",
        "print(longlist[10:20])\n",
        "print(longlist[-7:5])\n",
        "print()\n",
        "\n",
        "#Index Slicing with Step parameter\n",
        "print(longlist[::1])\n",
        "print(longlist[::2])\n",
        "print(longlist[1:8:2])\n",
        "print(longlist[9:1:-1])\n",
        "print(longlist[-1::1])\n",
        "print(longlist[-1::-1])\n",
        "print()"
      ],
      "metadata": {
        "colab": {
          "base_uri": "https://localhost:8080/"
        },
        "id": "dTVqf6pwLKhV",
        "outputId": "4d788a36-28d4-46e5-e31e-10b66efb8057"
      },
      "execution_count": null,
      "outputs": [
        {
          "output_type": "stream",
          "name": "stdout",
          "text": [
            "9\n",
            "[5, 4, 2, 1, 3, 1, -2.0, [1, 2, 3], 'Word']\n",
            "[5, 4, 2, 1, 3, 1, -2.0, [1, 2, 3], 'Word']\n",
            "[5, 4, 2, 1, 3, 1, -2.0, [1, 2, 3], 'Word']\n",
            "[4, 2, 1, 3, 1, -2.0, [1, 2, 3], 'Word']\n",
            "[2, 1, 3, 1, -2.0, [1, 2, 3], 'Word']\n",
            "[2, 1, 3]\n",
            "[]\n",
            "['Word']\n",
            "[]\n",
            "\n",
            "[5, 4, 2, 1, 3, 1, -2.0, [1, 2, 3], 'Word']\n",
            "[4, 2, 1, 3, 1, -2.0, [1, 2, 3], 'Word']\n",
            "[4]\n",
            "['Word']\n",
            "\n",
            "[]\n",
            "[2, 1, 3]\n",
            "\n",
            "[5, 4, 2, 1, 3, 1, -2.0, [1, 2, 3], 'Word']\n",
            "[5, 2, 3, -2.0, 'Word']\n",
            "[4, 1, 1, [1, 2, 3]]\n",
            "['Word', [1, 2, 3], -2.0, 1, 3, 1, 2]\n",
            "['Word']\n",
            "['Word', [1, 2, 3], -2.0, 1, 3, 1, 2, 4, 5]\n",
            "\n"
          ]
        }
      ]
    },
    {
      "cell_type": "markdown",
      "source": [
        "\n",
        "\n",
        "```\n",
        "Index slicing gives you the specific part of the sequence without creating a loop\n",
        "```\n",
        "\n"
      ],
      "metadata": {
        "id": "ZiSBaVnReMz1"
      }
    },
    {
      "cell_type": "markdown",
      "source": [
        "#List Methods and the Mutable Property of Lists"
      ],
      "metadata": {
        "id": "3nyhs0QNSG9l"
      }
    },
    {
      "cell_type": "code",
      "source": [
        "numberlist2 = numberlist\n",
        "print(numberlist2)\n",
        "print(numberlist)\n",
        "numberlist[0] = 6\n",
        "print(numberlist2)\n",
        "print(numberlist2)\n",
        "print()\n",
        "\n",
        "numberlist2 = numberlist.copy()\n",
        "print(numberlist2)\n",
        "numberlist[0] = 5\n",
        "print(numberlist2)\n",
        "print(numberlist2)\n",
        "print()\n",
        "\n",
        "#Exploring some List Functions and Methods\n",
        "print(numberlist)\n",
        "numberlist.append(6)\n",
        "print(numberlist)\n",
        "numberlist.pop()\n",
        "print(numberlist)\n",
        "numberlist.sort()\n",
        "print(numberlist)\n",
        "print(min(numberlist), max(numberlist))\n",
        "print(longlist)\n",
        "print(longlist.count(1))\n",
        "print(longlist[7].count(1))\n",
        "print()\n"
      ],
      "metadata": {
        "colab": {
          "base_uri": "https://localhost:8080/"
        },
        "id": "0OsuKDflSKfk",
        "outputId": "6492fb31-6773-4af0-bae6-f589af9c3d8c"
      },
      "execution_count": null,
      "outputs": [
        {
          "output_type": "stream",
          "name": "stdout",
          "text": [
            "[5, 5, 5, 5, 5]\n",
            "[5, 5, 5, 5, 5]\n",
            "[6, 5, 5, 5, 5]\n",
            "[6, 5, 5, 5, 5]\n",
            "\n",
            "[6, 5, 5, 5, 5]\n",
            "[6, 5, 5, 5, 5]\n",
            "[6, 5, 5, 5, 5]\n",
            "\n",
            "[5, 5, 5, 5, 5]\n",
            "[5, 5, 5, 5, 5, 6]\n",
            "[5, 5, 5, 5, 5]\n",
            "[5, 5, 5, 5, 5]\n",
            "5 5\n",
            "[5, 4, 2, 1, 3, 1, -2.0, [1, 2, 3], 'Word']\n",
            "2\n",
            "1\n",
            "\n"
          ]
        }
      ]
    },
    {
      "cell_type": "markdown",
      "source": [
        "#The in operator"
      ],
      "metadata": {
        "id": "qXo55FiSZ9sU"
      }
    },
    {
      "cell_type": "code",
      "source": [
        "print(3 in longlist)\n",
        "print(15 in longlist)\n",
        "num = int(input(\"Enter a number: \"))\n",
        "if num in longlist:\n",
        "    print(\"The number is in longlist\")\n",
        "else:\n",
        "    print(\"The number is not in longlist\")\n"
      ],
      "metadata": {
        "id": "HLFc8RdHZ-Sd"
      },
      "execution_count": null,
      "outputs": []
    },
    {
      "cell_type": "markdown",
      "source": [
        "#Using a list in an iterative statement"
      ],
      "metadata": {
        "id": "oDBhCMvhZ9LU"
      }
    },
    {
      "cell_type": "code",
      "source": [
        "for item in longlist:\n",
        "    print(item)\n",
        "    i=0\n",
        "while i<len(longlist):\n",
        "  print(longlist[i])\n",
        "  i+=1\n"
      ],
      "metadata": {
        "colab": {
          "base_uri": "https://localhost:8080/"
        },
        "id": "TZBZOVGiaHI9",
        "outputId": "acab4253-4104-4277-c017-e4987e60253e"
      },
      "execution_count": null,
      "outputs": [
        {
          "output_type": "stream",
          "name": "stdout",
          "text": [
            "5\n",
            "4\n",
            "2\n",
            "1\n",
            "3\n",
            "1\n",
            "-2.0\n",
            "[1, 2, 3]\n",
            "Word\n",
            "5\n",
            "4\n",
            "2\n",
            "1\n",
            "3\n",
            "1\n",
            "-2.0\n",
            "[1, 2, 3]\n",
            "Word\n"
          ]
        }
      ]
    },
    {
      "cell_type": "markdown",
      "source": [
        "#Strings"
      ],
      "metadata": {
        "id": "Jy4hq5pMS1yc"
      }
    },
    {
      "cell_type": "code",
      "source": [
        "message = \"Hello World\"\n",
        "print(message)\n",
        "print(len(message))\n",
        "messagelist = \"H\" \"E\" \"L\" \"L\" \"O\"\n",
        "for v in messagelist:\n",
        "  print(v, end='')\n",
        "print()\n",
        "\n",
        "print(message[0]+ message[4]+ message[9]+ message[10])\n",
        "print(message[:5])\n",
        "print(message[6:])"
      ],
      "metadata": {
        "colab": {
          "base_uri": "https://localhost:8080/"
        },
        "id": "0sjwly_fanB9",
        "outputId": "3a9af4c6-1275-42e7-80ab-0bd52fb11ef3"
      },
      "execution_count": null,
      "outputs": [
        {
          "output_type": "stream",
          "name": "stdout",
          "text": [
            "Hello World\n",
            "11\n",
            "HELLO\n",
            "Hold\n",
            "Hello\n",
            "World\n"
          ]
        }
      ]
    },
    {
      "cell_type": "markdown",
      "source": [
        "# String Methods"
      ],
      "metadata": {
        "id": "sw8kJjh9e0lN"
      }
    },
    {
      "cell_type": "code",
      "source": [
        "message.upper()\n",
        "print(message.upper())\n",
        "message.lower()\n",
        "message.title()\n",
        "print(\"Value 1 is {}, and value 2 is {}\".format(-1,True))\n",
        "print(message.split(' '))\n",
        "print(message.count('l'))\n",
        "print(message.replace('World','CPE00'))\n",
        "help(\"\")"
      ],
      "metadata": {
        "colab": {
          "base_uri": "https://localhost:8080/"
        },
        "id": "8BU9ug0OhSKU",
        "outputId": "4cd09ba8-63b4-4de4-9d2d-7bc0d82cb3a0"
      },
      "execution_count": null,
      "outputs": [
        {
          "output_type": "stream",
          "name": "stdout",
          "text": [
            "HELLO WORLD\n",
            "Value 1 is -1, and value 2 is True\n",
            "['Hello', 'World']\n",
            "3\n",
            "Hello CPE00\n",
            "Help on class str in module builtins:\n",
            "\n",
            "class str(object)\n",
            " |  str(object='') -> str\n",
            " |  str(bytes_or_buffer[, encoding[, errors]]) -> str\n",
            " |  \n",
            " |  Create a new string object from the given object. If encoding or\n",
            " |  errors is specified, then the object must expose a data buffer\n",
            " |  that will be decoded using the given encoding and error handler.\n",
            " |  Otherwise, returns the result of object.__str__() (if defined)\n",
            " |  or repr(object).\n",
            " |  encoding defaults to sys.getdefaultencoding().\n",
            " |  errors defaults to 'strict'.\n",
            " |  \n",
            " |  Methods defined here:\n",
            " |  \n",
            " |  __add__(self, value, /)\n",
            " |      Return self+value.\n",
            " |  \n",
            " |  __contains__(self, key, /)\n",
            " |      Return key in self.\n",
            " |  \n",
            " |  __eq__(self, value, /)\n",
            " |      Return self==value.\n",
            " |  \n",
            " |  __format__(self, format_spec, /)\n",
            " |      Return a formatted version of the string as described by format_spec.\n",
            " |  \n",
            " |  __ge__(self, value, /)\n",
            " |      Return self>=value.\n",
            " |  \n",
            " |  __getattribute__(self, name, /)\n",
            " |      Return getattr(self, name).\n",
            " |  \n",
            " |  __getitem__(self, key, /)\n",
            " |      Return self[key].\n",
            " |  \n",
            " |  __getnewargs__(...)\n",
            " |  \n",
            " |  __gt__(self, value, /)\n",
            " |      Return self>value.\n",
            " |  \n",
            " |  __hash__(self, /)\n",
            " |      Return hash(self).\n",
            " |  \n",
            " |  __iter__(self, /)\n",
            " |      Implement iter(self).\n",
            " |  \n",
            " |  __le__(self, value, /)\n",
            " |      Return self<=value.\n",
            " |  \n",
            " |  __len__(self, /)\n",
            " |      Return len(self).\n",
            " |  \n",
            " |  __lt__(self, value, /)\n",
            " |      Return self<value.\n",
            " |  \n",
            " |  __mod__(self, value, /)\n",
            " |      Return self%value.\n",
            " |  \n",
            " |  __mul__(self, value, /)\n",
            " |      Return self*value.\n",
            " |  \n",
            " |  __ne__(self, value, /)\n",
            " |      Return self!=value.\n",
            " |  \n",
            " |  __repr__(self, /)\n",
            " |      Return repr(self).\n",
            " |  \n",
            " |  __rmod__(self, value, /)\n",
            " |      Return value%self.\n",
            " |  \n",
            " |  __rmul__(self, value, /)\n",
            " |      Return value*self.\n",
            " |  \n",
            " |  __sizeof__(self, /)\n",
            " |      Return the size of the string in memory, in bytes.\n",
            " |  \n",
            " |  __str__(self, /)\n",
            " |      Return str(self).\n",
            " |  \n",
            " |  capitalize(self, /)\n",
            " |      Return a capitalized version of the string.\n",
            " |      \n",
            " |      More specifically, make the first character have upper case and the rest lower\n",
            " |      case.\n",
            " |  \n",
            " |  casefold(self, /)\n",
            " |      Return a version of the string suitable for caseless comparisons.\n",
            " |  \n",
            " |  center(self, width, fillchar=' ', /)\n",
            " |      Return a centered string of length width.\n",
            " |      \n",
            " |      Padding is done using the specified fill character (default is a space).\n",
            " |  \n",
            " |  count(...)\n",
            " |      S.count(sub[, start[, end]]) -> int\n",
            " |      \n",
            " |      Return the number of non-overlapping occurrences of substring sub in\n",
            " |      string S[start:end].  Optional arguments start and end are\n",
            " |      interpreted as in slice notation.\n",
            " |  \n",
            " |  encode(self, /, encoding='utf-8', errors='strict')\n",
            " |      Encode the string using the codec registered for encoding.\n",
            " |      \n",
            " |      encoding\n",
            " |        The encoding in which to encode the string.\n",
            " |      errors\n",
            " |        The error handling scheme to use for encoding errors.\n",
            " |        The default is 'strict' meaning that encoding errors raise a\n",
            " |        UnicodeEncodeError.  Other possible values are 'ignore', 'replace' and\n",
            " |        'xmlcharrefreplace' as well as any other name registered with\n",
            " |        codecs.register_error that can handle UnicodeEncodeErrors.\n",
            " |  \n",
            " |  endswith(...)\n",
            " |      S.endswith(suffix[, start[, end]]) -> bool\n",
            " |      \n",
            " |      Return True if S ends with the specified suffix, False otherwise.\n",
            " |      With optional start, test S beginning at that position.\n",
            " |      With optional end, stop comparing S at that position.\n",
            " |      suffix can also be a tuple of strings to try.\n",
            " |  \n",
            " |  expandtabs(self, /, tabsize=8)\n",
            " |      Return a copy where all tab characters are expanded using spaces.\n",
            " |      \n",
            " |      If tabsize is not given, a tab size of 8 characters is assumed.\n",
            " |  \n",
            " |  find(...)\n",
            " |      S.find(sub[, start[, end]]) -> int\n",
            " |      \n",
            " |      Return the lowest index in S where substring sub is found,\n",
            " |      such that sub is contained within S[start:end].  Optional\n",
            " |      arguments start and end are interpreted as in slice notation.\n",
            " |      \n",
            " |      Return -1 on failure.\n",
            " |  \n",
            " |  format(...)\n",
            " |      S.format(*args, **kwargs) -> str\n",
            " |      \n",
            " |      Return a formatted version of S, using substitutions from args and kwargs.\n",
            " |      The substitutions are identified by braces ('{' and '}').\n",
            " |  \n",
            " |  format_map(...)\n",
            " |      S.format_map(mapping) -> str\n",
            " |      \n",
            " |      Return a formatted version of S, using substitutions from mapping.\n",
            " |      The substitutions are identified by braces ('{' and '}').\n",
            " |  \n",
            " |  index(...)\n",
            " |      S.index(sub[, start[, end]]) -> int\n",
            " |      \n",
            " |      Return the lowest index in S where substring sub is found,\n",
            " |      such that sub is contained within S[start:end].  Optional\n",
            " |      arguments start and end are interpreted as in slice notation.\n",
            " |      \n",
            " |      Raises ValueError when the substring is not found.\n",
            " |  \n",
            " |  isalnum(self, /)\n",
            " |      Return True if the string is an alpha-numeric string, False otherwise.\n",
            " |      \n",
            " |      A string is alpha-numeric if all characters in the string are alpha-numeric and\n",
            " |      there is at least one character in the string.\n",
            " |  \n",
            " |  isalpha(self, /)\n",
            " |      Return True if the string is an alphabetic string, False otherwise.\n",
            " |      \n",
            " |      A string is alphabetic if all characters in the string are alphabetic and there\n",
            " |      is at least one character in the string.\n",
            " |  \n",
            " |  isascii(self, /)\n",
            " |      Return True if all characters in the string are ASCII, False otherwise.\n",
            " |      \n",
            " |      ASCII characters have code points in the range U+0000-U+007F.\n",
            " |      Empty string is ASCII too.\n",
            " |  \n",
            " |  isdecimal(self, /)\n",
            " |      Return True if the string is a decimal string, False otherwise.\n",
            " |      \n",
            " |      A string is a decimal string if all characters in the string are decimal and\n",
            " |      there is at least one character in the string.\n",
            " |  \n",
            " |  isdigit(self, /)\n",
            " |      Return True if the string is a digit string, False otherwise.\n",
            " |      \n",
            " |      A string is a digit string if all characters in the string are digits and there\n",
            " |      is at least one character in the string.\n",
            " |  \n",
            " |  isidentifier(self, /)\n",
            " |      Return True if the string is a valid Python identifier, False otherwise.\n",
            " |      \n",
            " |      Call keyword.iskeyword(s) to test whether string s is a reserved identifier,\n",
            " |      such as \"def\" or \"class\".\n",
            " |  \n",
            " |  islower(self, /)\n",
            " |      Return True if the string is a lowercase string, False otherwise.\n",
            " |      \n",
            " |      A string is lowercase if all cased characters in the string are lowercase and\n",
            " |      there is at least one cased character in the string.\n",
            " |  \n",
            " |  isnumeric(self, /)\n",
            " |      Return True if the string is a numeric string, False otherwise.\n",
            " |      \n",
            " |      A string is numeric if all characters in the string are numeric and there is at\n",
            " |      least one character in the string.\n",
            " |  \n",
            " |  isprintable(self, /)\n",
            " |      Return True if the string is printable, False otherwise.\n",
            " |      \n",
            " |      A string is printable if all of its characters are considered printable in\n",
            " |      repr() or if it is empty.\n",
            " |  \n",
            " |  isspace(self, /)\n",
            " |      Return True if the string is a whitespace string, False otherwise.\n",
            " |      \n",
            " |      A string is whitespace if all characters in the string are whitespace and there\n",
            " |      is at least one character in the string.\n",
            " |  \n",
            " |  istitle(self, /)\n",
            " |      Return True if the string is a title-cased string, False otherwise.\n",
            " |      \n",
            " |      In a title-cased string, upper- and title-case characters may only\n",
            " |      follow uncased characters and lowercase characters only cased ones.\n",
            " |  \n",
            " |  isupper(self, /)\n",
            " |      Return True if the string is an uppercase string, False otherwise.\n",
            " |      \n",
            " |      A string is uppercase if all cased characters in the string are uppercase and\n",
            " |      there is at least one cased character in the string.\n",
            " |  \n",
            " |  join(self, iterable, /)\n",
            " |      Concatenate any number of strings.\n",
            " |      \n",
            " |      The string whose method is called is inserted in between each given string.\n",
            " |      The result is returned as a new string.\n",
            " |      \n",
            " |      Example: '.'.join(['ab', 'pq', 'rs']) -> 'ab.pq.rs'\n",
            " |  \n",
            " |  ljust(self, width, fillchar=' ', /)\n",
            " |      Return a left-justified string of length width.\n",
            " |      \n",
            " |      Padding is done using the specified fill character (default is a space).\n",
            " |  \n",
            " |  lower(self, /)\n",
            " |      Return a copy of the string converted to lowercase.\n",
            " |  \n",
            " |  lstrip(self, chars=None, /)\n",
            " |      Return a copy of the string with leading whitespace removed.\n",
            " |      \n",
            " |      If chars is given and not None, remove characters in chars instead.\n",
            " |  \n",
            " |  partition(self, sep, /)\n",
            " |      Partition the string into three parts using the given separator.\n",
            " |      \n",
            " |      This will search for the separator in the string.  If the separator is found,\n",
            " |      returns a 3-tuple containing the part before the separator, the separator\n",
            " |      itself, and the part after it.\n",
            " |      \n",
            " |      If the separator is not found, returns a 3-tuple containing the original string\n",
            " |      and two empty strings.\n",
            " |  \n",
            " |  removeprefix(self, prefix, /)\n",
            " |      Return a str with the given prefix string removed if present.\n",
            " |      \n",
            " |      If the string starts with the prefix string, return string[len(prefix):].\n",
            " |      Otherwise, return a copy of the original string.\n",
            " |  \n",
            " |  removesuffix(self, suffix, /)\n",
            " |      Return a str with the given suffix string removed if present.\n",
            " |      \n",
            " |      If the string ends with the suffix string and that suffix is not empty,\n",
            " |      return string[:-len(suffix)]. Otherwise, return a copy of the original\n",
            " |      string.\n",
            " |  \n",
            " |  replace(self, old, new, count=-1, /)\n",
            " |      Return a copy with all occurrences of substring old replaced by new.\n",
            " |      \n",
            " |        count\n",
            " |          Maximum number of occurrences to replace.\n",
            " |          -1 (the default value) means replace all occurrences.\n",
            " |      \n",
            " |      If the optional argument count is given, only the first count occurrences are\n",
            " |      replaced.\n",
            " |  \n",
            " |  rfind(...)\n",
            " |      S.rfind(sub[, start[, end]]) -> int\n",
            " |      \n",
            " |      Return the highest index in S where substring sub is found,\n",
            " |      such that sub is contained within S[start:end].  Optional\n",
            " |      arguments start and end are interpreted as in slice notation.\n",
            " |      \n",
            " |      Return -1 on failure.\n",
            " |  \n",
            " |  rindex(...)\n",
            " |      S.rindex(sub[, start[, end]]) -> int\n",
            " |      \n",
            " |      Return the highest index in S where substring sub is found,\n",
            " |      such that sub is contained within S[start:end].  Optional\n",
            " |      arguments start and end are interpreted as in slice notation.\n",
            " |      \n",
            " |      Raises ValueError when the substring is not found.\n",
            " |  \n",
            " |  rjust(self, width, fillchar=' ', /)\n",
            " |      Return a right-justified string of length width.\n",
            " |      \n",
            " |      Padding is done using the specified fill character (default is a space).\n",
            " |  \n",
            " |  rpartition(self, sep, /)\n",
            " |      Partition the string into three parts using the given separator.\n",
            " |      \n",
            " |      This will search for the separator in the string, starting at the end. If\n",
            " |      the separator is found, returns a 3-tuple containing the part before the\n",
            " |      separator, the separator itself, and the part after it.\n",
            " |      \n",
            " |      If the separator is not found, returns a 3-tuple containing two empty strings\n",
            " |      and the original string.\n",
            " |  \n",
            " |  rsplit(self, /, sep=None, maxsplit=-1)\n",
            " |      Return a list of the substrings in the string, using sep as the separator string.\n",
            " |      \n",
            " |        sep\n",
            " |          The separator used to split the string.\n",
            " |      \n",
            " |          When set to None (the default value), will split on any whitespace\n",
            " |          character (including \\n \\r \\t \\f and spaces) and will discard\n",
            " |          empty strings from the result.\n",
            " |        maxsplit\n",
            " |          Maximum number of splits.\n",
            " |          -1 (the default value) means no limit.\n",
            " |      \n",
            " |      Splitting starts at the end of the string and works to the front.\n",
            " |  \n",
            " |  rstrip(self, chars=None, /)\n",
            " |      Return a copy of the string with trailing whitespace removed.\n",
            " |      \n",
            " |      If chars is given and not None, remove characters in chars instead.\n",
            " |  \n",
            " |  split(self, /, sep=None, maxsplit=-1)\n",
            " |      Return a list of the substrings in the string, using sep as the separator string.\n",
            " |      \n",
            " |        sep\n",
            " |          The separator used to split the string.\n",
            " |      \n",
            " |          When set to None (the default value), will split on any whitespace\n",
            " |          character (including \\n \\r \\t \\f and spaces) and will discard\n",
            " |          empty strings from the result.\n",
            " |        maxsplit\n",
            " |          Maximum number of splits.\n",
            " |          -1 (the default value) means no limit.\n",
            " |      \n",
            " |      Splitting starts at the front of the string and works to the end.\n",
            " |      \n",
            " |      Note, str.split() is mainly useful for data that has been intentionally\n",
            " |      delimited.  With natural text that includes punctuation, consider using\n",
            " |      the regular expression module.\n",
            " |  \n",
            " |  splitlines(self, /, keepends=False)\n",
            " |      Return a list of the lines in the string, breaking at line boundaries.\n",
            " |      \n",
            " |      Line breaks are not included in the resulting list unless keepends is given and\n",
            " |      true.\n",
            " |  \n",
            " |  startswith(...)\n",
            " |      S.startswith(prefix[, start[, end]]) -> bool\n",
            " |      \n",
            " |      Return True if S starts with the specified prefix, False otherwise.\n",
            " |      With optional start, test S beginning at that position.\n",
            " |      With optional end, stop comparing S at that position.\n",
            " |      prefix can also be a tuple of strings to try.\n",
            " |  \n",
            " |  strip(self, chars=None, /)\n",
            " |      Return a copy of the string with leading and trailing whitespace removed.\n",
            " |      \n",
            " |      If chars is given and not None, remove characters in chars instead.\n",
            " |  \n",
            " |  swapcase(self, /)\n",
            " |      Convert uppercase characters to lowercase and lowercase characters to uppercase.\n",
            " |  \n",
            " |  title(self, /)\n",
            " |      Return a version of the string where each word is titlecased.\n",
            " |      \n",
            " |      More specifically, words start with uppercased characters and all remaining\n",
            " |      cased characters have lower case.\n",
            " |  \n",
            " |  translate(self, table, /)\n",
            " |      Replace each character in the string using the given translation table.\n",
            " |      \n",
            " |        table\n",
            " |          Translation table, which must be a mapping of Unicode ordinals to\n",
            " |          Unicode ordinals, strings, or None.\n",
            " |      \n",
            " |      The table must implement lookup/indexing via __getitem__, for instance a\n",
            " |      dictionary or list.  If this operation raises LookupError, the character is\n",
            " |      left untouched.  Characters mapped to None are deleted.\n",
            " |  \n",
            " |  upper(self, /)\n",
            " |      Return a copy of the string converted to uppercase.\n",
            " |  \n",
            " |  zfill(self, width, /)\n",
            " |      Pad a numeric string with zeros on the left, to fill a field of the given width.\n",
            " |      \n",
            " |      The string is never truncated.\n",
            " |  \n",
            " |  ----------------------------------------------------------------------\n",
            " |  Static methods defined here:\n",
            " |  \n",
            " |  __new__(*args, **kwargs)\n",
            " |      Create and return a new object.  See help(type) for accurate signature.\n",
            " |  \n",
            " |  maketrans(...)\n",
            " |      Return a translation table usable for str.translate().\n",
            " |      \n",
            " |      If there is only one argument, it must be a dictionary mapping Unicode\n",
            " |      ordinals (integers) or characters to Unicode ordinals, strings or None.\n",
            " |      Character keys will be then converted to ordinals.\n",
            " |      If there are two arguments, they must be strings of equal length, and\n",
            " |      in the resulting dictionary, each character in x will be mapped to the\n",
            " |      character at the same position in y. If there is a third argument, it\n",
            " |      must be a string, whose characters will be mapped to None in the result.\n",
            "\n"
          ]
        }
      ]
    },
    {
      "cell_type": "markdown",
      "source": [
        "# The in operator for Strings"
      ],
      "metadata": {
        "id": "FGxSXmAJiVEF"
      }
    },
    {
      "cell_type": "code",
      "source": [
        "print('W' in message)\n",
        "print('old' in message)\n",
        "word = input(\"Enter a word: \")\n",
        "if word in \"The big brown fox jump over the lazy dog\": print(\"The word is in the text\")\n",
        "else:\n",
        "      print(\"The word is not in the text\")\n"
      ],
      "metadata": {
        "colab": {
          "base_uri": "https://localhost:8080/"
        },
        "id": "43EYZSt5iXeV",
        "outputId": "45174dd3-ebd7-4f77-b769-3b83b7a59137"
      },
      "execution_count": null,
      "outputs": [
        {
          "output_type": "stream",
          "name": "stdout",
          "text": [
            "True\n",
            "False\n",
            "Enter a word: w\n",
            "The word is in the text\n"
          ]
        }
      ]
    }
  ]
}