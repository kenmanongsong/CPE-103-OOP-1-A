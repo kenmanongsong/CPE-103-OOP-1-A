{
  "nbformat": 4,
  "nbformat_minor": 0,
  "metadata": {
    "colab": {
      "provenance": [],
      "authorship_tag": "ABX9TyO28P5sQc8Hyy5IKFDp82s2",
      "include_colab_link": true
    },
    "kernelspec": {
      "name": "python3",
      "display_name": "Python 3"
    },
    "language_info": {
      "name": "python"
    }
  },
  "cells": [
    {
      "cell_type": "markdown",
      "metadata": {
        "id": "view-in-github",
        "colab_type": "text"
      },
      "source": [
        "<a href=\"https://colab.research.google.com/github/kenmanongsong/CPE-103-OOP-1-A/blob/main/LABORATORY_N0_6.ipynb\" target=\"_parent\"><img src=\"https://colab.research.google.com/assets/colab-badge.svg\" alt=\"Open In Colab\"/></a>"
      ]
    },
    {
      "cell_type": "markdown",
      "source": [
        "#oopfa1_Manongsong"
      ],
      "metadata": {
        "id": "xNG85I2eVNHX"
      }
    },
    {
      "cell_type": "code",
      "execution_count": 65,
      "metadata": {
        "colab": {
          "base_uri": "https://localhost:8080/"
        },
        "id": "Ms0vd2lzUBiP",
        "outputId": "12747fd6-fc2f-477d-c7ea-b7b2c2726b15"
      },
      "outputs": [
        {
          "output_type": "stream",
          "name": "stdout",
          "text": [
            "KEN R. M.\n",
            "KEN R. M.\n"
          ]
        }
      ],
      "source": [
        "class Character():\n",
        "    def __init__(self, username):\n",
        "        self._username = username\n",
        "        self._hp = 100\n",
        "        self._mana = 100\n",
        "        self._damage = 5\n",
        "        self._str = 0  # strength stat\n",
        "        self._vit = 0  # vitality stat\n",
        "        self._int = 0  # intelligence stat\n",
        "        self._agi = 0  # agility stat\n",
        "\n",
        "    def getUsername(self):\n",
        "        return self._username\n",
        "\n",
        "    def setUsername(self, new_username):\n",
        "        self._username = new_username\n",
        "\n",
        "    def getHp(self):\n",
        "        return self._hp\n",
        "\n",
        "    def setHp(self, new_hp):\n",
        "        self._hp = new_hp\n",
        "\n",
        "    def getDamage(self):\n",
        "        return self._damage\n",
        "\n",
        "    def setDamage(self, new_damage):\n",
        "        self._damage = new_damage\n",
        "\n",
        "    def getStr(self):\n",
        "        return self._str\n",
        "\n",
        "    def setStr(self, new_str):\n",
        "        self._str = new_str\n",
        "\n",
        "    def getVit(self):\n",
        "        return self._vit\n",
        "\n",
        "    def setVit(self, new_vit):\n",
        "        self._vit = new_vit\n",
        "\n",
        "    def getInt(self):\n",
        "        return self._int\n",
        "\n",
        "    def setInt(self, new_int):\n",
        "        self._int = new_int\n",
        "\n",
        "    def getAgi(self):\n",
        "        return self._agi\n",
        "\n",
        "    def setAgi(self, new_agi):\n",
        "        self._agi = new_agi\n",
        "\n",
        "    def reduceHp(self, damage_amount):\n",
        "        self._hp = self._hp - damage_amount\n",
        "\n",
        "    def addHp(self, heal_amount):\n",
        "        self._hp = self._hp + heal_amount\n",
        "\n",
        "\n",
        "character1 = Character(\"KEN R. M.\")\n",
        "print(character1._username)\n",
        "print(character1.getUsername())"
      ]
    },
    {
      "cell_type": "markdown",
      "source": [
        "#SINGLE INHERITANCE"
      ],
      "metadata": {
        "id": "AVv1wW5MaHJl"
      }
    },
    {
      "cell_type": "code",
      "source": [
        "class Novice(Character):\n",
        "    def basicAttack(self, character):\n",
        "      character.reduceHp(self.getDamage())\n",
        "      print(f\"{self.getUsername()} performed Basic Attack! -{self.getDamage()}\")\n",
        "character1 = Novice(\"KEN R. M.\")\n",
        "print(character1.getUsername())\n",
        "print(character1.getHp())"
      ],
      "metadata": {
        "colab": {
          "base_uri": "https://localhost:8080/"
        },
        "id": "DXs9dYOgUrJ2",
        "outputId": "13bf547d-4c86-4ca4-a152-7b7c21974ec1"
      },
      "execution_count": 66,
      "outputs": [
        {
          "output_type": "stream",
          "name": "stdout",
          "text": [
            "KEN R. M.\n",
            "100\n"
          ]
        }
      ]
    },
    {
      "cell_type": "markdown",
      "source": [
        "#MULTI-LEVEL INHERITANCE"
      ],
      "metadata": {
        "id": "YjYrAdtHZ2zl"
      }
    },
    {
      "cell_type": "code",
      "source": [
        "class Swordsman(Novice):\n",
        "    def __init__(self, username):\n",
        "        super().__init__(username)\n",
        "        self.setStr(5)\n",
        "        self.setVit(10)\n",
        "        self.setHp(self.getHp() + self.getVit())\n",
        "\n",
        "    def slashAttack(self, character):\n",
        "        self.new_damage = self.getDamage() + self.getStr()\n",
        "        character.reduceHp(self.new_damage)\n",
        "        print(f\"{self.getUsername()} performed Slash Attack! -{self.new_damage}\")\n",
        "\n",
        "class Archer(Novice):\n",
        "    def __init__(self, username):\n",
        "        super().__init__(username)\n",
        "        self.setAgi(5)\n",
        "        self.setInt(5)\n",
        "        self.setVit(5)\n",
        "        self.setHp(self.getHp() + self.getVit())\n",
        "\n",
        "    def rangedAttack(self, character):\n",
        "        self.new_damage = self.getDamage() + random.randint(0, self.getInt())\n",
        "        character.reduceHp(self.new_damage)\n",
        "        print(f\"{self.getUsername()} performed Slash Attack! -{self.new_damage}\")\n",
        "\n",
        "class Magician(Novice):\n",
        "    def __init__(self, username):\n",
        "        super().__init__(username)\n",
        "        self.setInt(10)\n",
        "        self.setVit(5)\n",
        "        self.setHp(self.getHp() + self.getVit())\n",
        "\n",
        "    def heal(self):\n",
        "        self.addHp(self.getInt())\n",
        "        print(f\"{self.getUsername()} performed Heal! +{self.getInt()}\")\n",
        "\n",
        "    def magicAttack(self, character):\n",
        "        self.new_damage = self.getDamage() + self.getInt()\n",
        "        character.reduceHp(self.new_damage)\n",
        "        print(f\"{self.getUsername()} performed Magic Attack! -{self.new_damage}\")"
      ],
      "metadata": {
        "id": "4Iv0oUo4UudF"
      },
      "execution_count": 67,
      "outputs": []
    },
    {
      "cell_type": "markdown",
      "source": [
        "#MULTIPLE INHERITANCE"
      ],
      "metadata": {
        "id": "vFP2n0QRZ4i8"
      }
    },
    {
      "cell_type": "code",
      "source": [
        "Character1 = Swordsman(\"KEN\")\n",
        "Character2 = Magician(\"VOLOKDIK\")\n",
        "\n",
        "print(f\"{Character1.getUsername()} HP: {Character1.getHp()}\")\n",
        "print(f\"{Character2.getUsername()} HP: {Character2.getHp()}\")\n",
        "\n",
        "Character1.slashAttack(Character2)\n",
        "Character1.basicAttack(Character2)\n",
        "\n",
        "print(f\"{Character1.getUsername()} HP: {Character1.getHp()}\")\n",
        "print(f\"{Character2.getUsername()} HP: {Character2.getHp()}\")\n",
        "\n",
        "Character2.heal()\n",
        "Character2.magicAttack(Character1)\n",
        "\n",
        "print(f\"{Character1.getUsername()} HP: {Character1.getHp()}\")\n",
        "print(f\"{Character2.getUsername()} HP: {Character2.getHp()}\")"
      ],
      "metadata": {
        "colab": {
          "base_uri": "https://localhost:8080/"
        },
        "id": "3Ksbc57VU4iG",
        "outputId": "f34e704b-78b7-4324-824d-f61c4dcf7468"
      },
      "execution_count": 68,
      "outputs": [
        {
          "output_type": "stream",
          "name": "stdout",
          "text": [
            "KEN HP: 110\n",
            "VOLOKDIK HP: 105\n",
            "KEN performed Slash Attack! -10\n",
            "KEN performed Basic Attack! -5\n",
            "KEN HP: 110\n",
            "VOLOKDIK HP: 90\n",
            "VOLOKDIK performed Heal! +10\n",
            "VOLOKDIK performed Magic Attack! -15\n",
            "KEN HP: 95\n",
            "VOLOKDIK HP: 100\n"
          ]
        }
      ]
    },
    {
      "cell_type": "markdown",
      "source": [],
      "metadata": {
        "id": "Is3MuYVrZ5g0"
      }
    },
    {
      "cell_type": "code",
      "source": [
        "class Boss(Swordsman, Archer, Magician):\n",
        "    def __init__(self, username):\n",
        "        super().__init__(username)\n",
        "        self.setStr(10)\n",
        "        self.setVit(25)\n",
        "        self.setInt(5)\n",
        "        self.setHp(self.getHp() + self.getVit())"
      ],
      "metadata": {
        "id": "DUvU_4iAU4uV"
      },
      "execution_count": 69,
      "outputs": []
    },
    {
      "cell_type": "code",
      "source": [
        "Character1 = Swordsman(\"KEN\")\n",
        "Character2 = Boss(\"AMPONG\")\n",
        "\n",
        "print(f\"{Character1.getUsername()} HP: {Character1.getHp()}\")\n",
        "print(f\"{Character2.getUsername()} HP: {Character2.getHp()}\")\n",
        "\n",
        "Character1.slashAttack(Character2)\n",
        "Character1.basicAttack(Character2)\n",
        "\n",
        "print(f\"{Character1.getUsername()} HP: {Character1.getHp()}\")\n",
        "print(f\"{Character2.getUsername()} HP: {Character2.getHp()}\")\n",
        "\n",
        "Character2.heal()\n",
        "Character2.basicAttack(Character1)\n",
        "Character2.slashAttack(Character1)\n",
        "Character2.rangedAttack(Character1)\n",
        "Character2.magicAttack(Character1)\n",
        "\n",
        "print(f\"{Character1.getUsername()} HP: {Character1.getHp()}\")\n",
        "print(f\"{Character2.getUsername()} HP: {Character2.getHp()}\")"
      ],
      "metadata": {
        "colab": {
          "base_uri": "https://localhost:8080/"
        },
        "id": "os7ayZGaU9El",
        "outputId": "515f3fff-abda-4e18-f7c5-747d4e10447a"
      },
      "execution_count": 71,
      "outputs": [
        {
          "output_type": "stream",
          "name": "stdout",
          "text": [
            "KEN HP: 110\n",
            "AMPONG HP: 145\n",
            "KEN performed Slash Attack! -10\n",
            "KEN performed Basic Attack! -5\n",
            "KEN HP: 110\n",
            "AMPONG HP: 130\n",
            "AMPONG performed Heal! +5\n",
            "AMPONG performed Basic Attack! -5\n",
            "AMPONG performed Slash Attack! -15\n",
            "AMPONG performed Slash Attack! -6\n",
            "AMPONG performed Magic Attack! -10\n",
            "KEN HP: 74\n",
            "AMPONG HP: 135\n"
          ]
        }
      ]
    }
  ]
}