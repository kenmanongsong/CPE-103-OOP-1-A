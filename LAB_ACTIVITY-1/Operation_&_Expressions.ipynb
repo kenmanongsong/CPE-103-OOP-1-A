{
  "nbformat": 4,
  "nbformat_minor": 0,
  "metadata": {
    "colab": {
      "provenance": [],
      "authorship_tag": "ABX9TyMWBzPCZG3WLiwzQN1tZNvw",
      "include_colab_link": true
    },
    "kernelspec": {
      "name": "python3",
      "display_name": "Python 3"
    },
    "language_info": {
      "name": "python"
    }
  },
  "cells": [
    {
      "cell_type": "markdown",
      "metadata": {
        "id": "view-in-github",
        "colab_type": "text"
      },
      "source": [
        "<a href=\"https://colab.research.google.com/github/kenmanongsong/CPE-103-OOP-1-A/blob/main/Operation_%26_Expressions.ipynb\" target=\"_parent\"><img src=\"https://colab.research.google.com/assets/colab-badge.svg\" alt=\"Open In Colab\"/></a>"
      ]
    },
    {
      "cell_type": "markdown",
      "source": [
        "#Boolean Operators"
      ],
      "metadata": {
        "id": "zOcAcDAdy3yk"
      }
    },
    {
      "cell_type": "code",
      "execution_count": null,
      "metadata": {
        "colab": {
          "base_uri": "https://localhost:8080/"
        },
        "id": "JRiSWXdgy21D",
        "outputId": "5c27a859-6d90-4b8e-cdd4-46dedb2e38d4"
      },
      "outputs": [
        {
          "output_type": "stream",
          "name": "stdout",
          "text": [
            "True\n",
            "False\n",
            "False\n"
          ]
        }
      ],
      "source": [
        "print(10 > 9)\n",
        "print(10 == 9)\n",
        "print(10 < 9)"
      ]
    },
    {
      "cell_type": "markdown",
      "source": [
        "#bool()Function"
      ],
      "metadata": {
        "id": "91gi7y_ZzNzC"
      }
    },
    {
      "cell_type": "code",
      "source": [
        "print(bool(1))\n",
        "print(bool(0))\n",
        "print(bool(-2))"
      ],
      "metadata": {
        "colab": {
          "base_uri": "https://localhost:8080/"
        },
        "id": "WIBeOg2zzLpF",
        "outputId": "13fee1f2-43c2-4795-9394-d3198e5e61cc"
      },
      "execution_count": null,
      "outputs": [
        {
          "output_type": "stream",
          "name": "stdout",
          "text": [
            "True\n",
            "False\n",
            "True\n"
          ]
        }
      ]
    },
    {
      "cell_type": "markdown",
      "source": [
        "#Function bool return"
      ],
      "metadata": {
        "id": "A40rKAroz6Xi"
      }
    },
    {
      "cell_type": "code",
      "source": [
        "def myFunction():\n",
        "  return True\n",
        "\n",
        "print(myFunction())\n",
        "\n",
        "if myFunction():\n",
        "  print(\"YES!\")\n",
        "else:\n",
        "  print(\"NO!\")\n",
        "\n",
        "  print(10 + 5)\n",
        "  print(10 - 5)\n",
        "  print(10 * 5)\n",
        "  print(10 / 5)"
      ],
      "metadata": {
        "colab": {
          "base_uri": "https://localhost:8080/"
        },
        "id": "K1OcZbbBz5rE",
        "outputId": "8d6b02f1-6f2d-452a-8fa6-e3d5fefce248"
      },
      "execution_count": null,
      "outputs": [
        {
          "output_type": "stream",
          "name": "stdout",
          "text": [
            "True\n",
            "YES!\n"
          ]
        }
      ]
    },
    {
      "cell_type": "markdown",
      "source": [
        "#Python Operators"
      ],
      "metadata": {
        "id": "f6xvZM-Pz7cb"
      }
    },
    {
      "cell_type": "code",
      "source": [
        "  print(10 + 5)\n",
        "  print(10 - 5)\n",
        "  print(10 * 5)\n",
        "  print(10 / 5)\n",
        "  print(10 % 5)\n",
        "  print(10 // 5)\n",
        "  print(10 ** 5)"
      ],
      "metadata": {
        "colab": {
          "base_uri": "https://localhost:8080/"
        },
        "id": "PKye1-XZz60K",
        "outputId": "f0a7cf66-b29b-48e5-d7f0-100f876f5435"
      },
      "execution_count": null,
      "outputs": [
        {
          "output_type": "stream",
          "name": "stdout",
          "text": [
            "15\n",
            "5\n",
            "50\n",
            "2.0\n",
            "0\n",
            "2\n",
            "100000\n"
          ]
        }
      ]
    },
    {
      "cell_type": "markdown",
      "source": [
        "#Python Bitwise Operators"
      ],
      "metadata": {
        "id": "-tncF6NH3Zgl"
      }
    },
    {
      "cell_type": "code",
      "source": [
        "a = 60\n",
        "b = 13\n",
        "\n",
        "print(a&b)\n",
        "print(a|b)\n",
        "print(a^b)\n",
        "print(~a)\n",
        "print(bin(~a))\n",
        "print(a<<2)\n",
        "print(bin(a<<2))\n",
        "print(bin(36))\n",
        "\n"
      ],
      "metadata": {
        "colab": {
          "base_uri": "https://localhost:8080/"
        },
        "id": "tFGB3BXY3Z0M",
        "outputId": "168a2f76-041f-4e37-d101-aef442a2fdf0"
      },
      "execution_count": null,
      "outputs": [
        {
          "output_type": "stream",
          "name": "stdout",
          "text": [
            "12\n",
            "61\n",
            "49\n",
            "-61\n",
            "-0b111101\n",
            "240\n",
            "0b11110000\n",
            "0b100100\n"
          ]
        }
      ]
    },
    {
      "cell_type": "markdown",
      "source": [
        "#Python Assignment"
      ],
      "metadata": {
        "id": "x-UYzFOn-m7r"
      }
    },
    {
      "cell_type": "code",
      "source": [
        "x = 2\n",
        "x += 4\n",
        "print(x)\n"
      ],
      "metadata": {
        "colab": {
          "base_uri": "https://localhost:8080/"
        },
        "id": "Nfr8wP83-reL",
        "outputId": "6d25a52c-6ca1-4d56-8749-9a7f3acbb0d5"
      },
      "execution_count": null,
      "outputs": [
        {
          "output_type": "stream",
          "name": "stdout",
          "text": [
            "6\n"
          ]
        }
      ]
    },
    {
      "cell_type": "markdown",
      "source": [
        "#Identity Operators"
      ],
      "metadata": {
        "id": "nK-L8KdpImMI"
      }
    },
    {
      "cell_type": "code",
      "source": [
        "x = 1\n",
        "y = 2\n",
        "print(x is not y)\n",
        "print(x is y)"
      ],
      "metadata": {
        "colab": {
          "base_uri": "https://localhost:8080/"
        },
        "id": "Jmfge0GhGq4Y",
        "outputId": "c1a8b56e-5a7e-412f-cca1-488446986c19"
      },
      "execution_count": null,
      "outputs": [
        {
          "output_type": "stream",
          "name": "stdout",
          "text": [
            "True\n",
            "False\n"
          ]
        }
      ]
    },
    {
      "cell_type": "markdown",
      "source": [
        "#Conditional Statement"
      ],
      "metadata": {
        "id": "PGNHcHfxHDaA"
      }
    },
    {
      "cell_type": "code",
      "source": [
        "a = 12\n",
        "b = 100\n",
        "if b > a:\n",
        "  print(\"b is greate than a\")"
      ],
      "metadata": {
        "colab": {
          "base_uri": "https://localhost:8080/"
        },
        "id": "FEzCAqZCHDwA",
        "outputId": "cd96b6e8-4e05-443b-db9c-224eb51044a0"
      },
      "execution_count": null,
      "outputs": [
        {
          "output_type": "stream",
          "name": "stdout",
          "text": [
            "b is greate than a\n"
          ]
        }
      ]
    },
    {
      "cell_type": "markdown",
      "source": [
        "#Else Statements"
      ],
      "metadata": {
        "id": "3b-UsAAcMZpW"
      }
    },
    {
      "cell_type": "code",
      "source": [
        "a = 200\n",
        "b = 33\n",
        "if b>a:\n",
        "  print(\"b is greate than a\")\n",
        "else:\n",
        "  print(\"a is greater than b\")\n",
        "\n"
      ],
      "metadata": {
        "colab": {
          "base_uri": "https://localhost:8080/"
        },
        "id": "mCQQRCxzMZ8m",
        "outputId": "ff55dd03-1d3c-4f0a-df21-c6fa8122d49c"
      },
      "execution_count": 42,
      "outputs": [
        {
          "output_type": "stream",
          "name": "stdout",
          "text": [
            "a is greater than b\n"
          ]
        }
      ]
    },
    {
      "cell_type": "markdown",
      "source": [
        "#Short Hand If Statement"
      ],
      "metadata": {
        "id": "kL0heLIPNlWE"
      }
    },
    {
      "cell_type": "code",
      "source": [
        "a = 200\n",
        "b = 33\n",
        "c = 500\n",
        "if a > b or a > c:\n",
        "  print(\"At least one of the condition is True\")"
      ],
      "metadata": {
        "colab": {
          "base_uri": "https://localhost:8080/"
        },
        "id": "K8W3wBopNlrT",
        "outputId": "c2683dba-ca54-4c55-ff98-3ad4180f8130"
      },
      "execution_count": 45,
      "outputs": [
        {
          "output_type": "stream",
          "name": "stdout",
          "text": [
            "At least one of the condition is True\n"
          ]
        }
      ]
    },
    {
      "cell_type": "markdown",
      "source": [
        "#Nested If"
      ],
      "metadata": {
        "id": "jCkCHX5pPpRv"
      }
    },
    {
      "cell_type": "code",
      "source": [
        "x = 41\n",
        "if x > 10:\n",
        "  print(\"Above 10!\")\n",
        "  if x > 20:\n",
        "    print(\"above 20!\")\n",
        "    if x > 30:\n",
        "      print(\"above 30!\")\n",
        "      if x > 40:\n",
        "       print(\"above 40!\")\n",
        "       if x > 50:\n",
        "         print(\"above 50!\")\n",
        "       else:\n",
        "         print(\"below 50!\")\n"
      ],
      "metadata": {
        "colab": {
          "base_uri": "https://localhost:8080/"
        },
        "id": "orba9VFgPpiH",
        "outputId": "7ca169de-8180-4e3a-a249-b428cbeeed1a"
      },
      "execution_count": 69,
      "outputs": [
        {
          "output_type": "stream",
          "name": "stdout",
          "text": [
            "Above 10!\n",
            "above 20!\n",
            "above 30!\n",
            "above 40!\n",
            "below 50!\n"
          ]
        }
      ]
    },
    {
      "cell_type": "markdown",
      "source": [
        "#PROGRAM 1: Wite a python program that determines if the input age is qualified to vote or not. The qualifiying age is 18 years and above"
      ],
      "metadata": {
        "id": "gd_Y_V-TYZEW"
      }
    },
    {
      "cell_type": "code",
      "source": [
        "age = int(input(\"Enter your age: \"))\n",
        "if age >= 18:\n",
        "  print(\"You are eligible to vote\")\n",
        "else:\n",
        "  print(\"You are not eligible to vote\")"
      ],
      "metadata": {
        "colab": {
          "base_uri": "https://localhost:8080/"
        },
        "id": "PihVciAeYZXO",
        "outputId": "acd9ca63-a8e4-450d-97a4-01d4a3538954"
      },
      "execution_count": 71,
      "outputs": [
        {
          "output_type": "stream",
          "name": "stdout",
          "text": [
            "Enter your age: 19\n",
            "You are eligible to vote\n"
          ]
        }
      ]
    },
    {
      "cell_type": "markdown",
      "source": [
        "#PROGRAM 2: Write a program that determines if the input number is POSITIVE, NEGATIVE, or ZERO"
      ],
      "metadata": {
        "id": "AL6dSdVmYtgf"
      }
    },
    {
      "cell_type": "code",
      "source": [
        "num = int(input(\"Enter a number:\"))\n",
        "if num > 0:\n",
        "  print(\"The number is possitive\")\n",
        "elif num < 0:\n",
        "    print(\"The number is negative\")\n",
        "else:\n",
        "      print(\"The number is zero\")\n"
      ],
      "metadata": {
        "colab": {
          "base_uri": "https://localhost:8080/"
        },
        "id": "0n5QoT6hZEfS",
        "outputId": "c9b4b6e8-0f81-40f9-89ef-57990a6bf8fb"
      },
      "execution_count": 83,
      "outputs": [
        {
          "output_type": "stream",
          "name": "stdout",
          "text": [
            "Enter a number:0\n",
            "The number is zero\n"
          ]
        }
      ]
    },
    {
      "cell_type": "markdown",
      "source": [
        "#PROGRAM 3: Write a program to determine if the grades are:"
      ],
      "metadata": {
        "id": "QFHtfwg7bYna"
      }
    },
    {
      "cell_type": "code",
      "source": [
        "grade = int(input(\"Enter your grade:\"))\n",
        "if grade >= 75:\n",
        "  print(\"Passed\")\n",
        "elif grade == 74:\n",
        "  print(\"Remedial\")\n",
        "else:\n",
        "  print(\"Failed\")"
      ],
      "metadata": {
        "colab": {
          "base_uri": "https://localhost:8080/"
        },
        "id": "hZ0PYdT8bYQ_",
        "outputId": "7eb02b2d-68be-45f8-be86-b31032acfcf4"
      },
      "execution_count": 85,
      "outputs": [
        {
          "output_type": "stream",
          "name": "stdout",
          "text": [
            "Enter your grade:74\n",
            "Remedial\n"
          ]
        }
      ]
    }
  ]
}