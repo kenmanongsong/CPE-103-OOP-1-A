{
  "nbformat": 4,
  "nbformat_minor": 0,
  "metadata": {
    "colab": {
      "provenance": [],
      "authorship_tag": "ABX9TyPTACDwEWOWiOWVHj47cPQL",
      "include_colab_link": true
    },
    "kernelspec": {
      "name": "python3",
      "display_name": "Python 3"
    },
    "language_info": {
      "name": "python"
    }
  },
  "cells": [
    {
      "cell_type": "markdown",
      "metadata": {
        "id": "view-in-github",
        "colab_type": "text"
      },
      "source": [
        "<a href=\"https://colab.research.google.com/github/kenmanongsong/CPE-103-OOP-1-A/blob/main/Copy_of_Variable_and_data_types.ipynb\" target=\"_parent\"><img src=\"https://colab.research.google.com/assets/colab-badge.svg\" alt=\"Open In Colab\"/></a>"
      ]
    },
    {
      "cell_type": "markdown",
      "source": [
        "#Numbers"
      ],
      "metadata": {
        "id": "9jPyuwETzyol"
      }
    },
    {
      "cell_type": "code",
      "execution_count": null,
      "metadata": {
        "id": "XYSjrxjKzxU1"
      },
      "outputs": [],
      "source": [
        "varNum = 123\n",
        "pi = 3.14159"
      ]
    },
    {
      "cell_type": "markdown",
      "source": [
        "#Strings"
      ],
      "metadata": {
        "id": "XIXyQAHT3-g9"
      }
    },
    {
      "cell_type": "code",
      "source": [
        "varString = \"Hello World\"\n",
        "varText = 'This is a String'"
      ],
      "metadata": {
        "id": "x9rjE2Tc4Alk"
      },
      "execution_count": null,
      "outputs": []
    },
    {
      "cell_type": "markdown",
      "source": [
        "#Lists"
      ],
      "metadata": {
        "id": "sMBAudIK4IhL"
      }
    },
    {
      "cell_type": "code",
      "source": [
        "varList = [\"abs\", 123]"
      ],
      "metadata": {
        "id": "R0dDH3gq4J8M"
      },
      "execution_count": null,
      "outputs": []
    },
    {
      "cell_type": "markdown",
      "source": [
        "#Turples"
      ],
      "metadata": {
        "id": "S_pRaiJw4PU8"
      }
    },
    {
      "cell_type": "code",
      "source": [
        "varTurple = (\"abs\", 123, \"Hello\")\n"
      ],
      "metadata": {
        "id": "UqkC5Dad4Sg0"
      },
      "execution_count": null,
      "outputs": []
    },
    {
      "cell_type": "markdown",
      "source": [
        "#Dictionaries"
      ],
      "metadata": {
        "id": "ABHeiZOS4YA0"
      }
    },
    {
      "cell_type": "code",
      "source": [
        "var = 3\n",
        "varDict = {\"first\": 1, '2' : \"2nd\", 3:var}\n",
        "varDict = {}\n",
        "varDict['first'] = 1\n",
        "varDict['2'] = \"2nd\"\n",
        "varDict[3] = var"
      ],
      "metadata": {
        "colab": {
          "base_uri": "https://localhost:8080/"
        },
        "id": "EQXVmwAU4Rxs",
        "outputId": "7c9756b6-0551-4726-9630-bb3640f15f2d"
      },
      "execution_count": null,
      "outputs": [
        {
          "output_type": "stream",
          "name": "stdout",
          "text": [
            "\n"
          ]
        }
      ]
    },
    {
      "cell_type": "markdown",
      "source": [
        "#ADDITION\n"
      ],
      "metadata": {
        "id": "iHiHTLNU4ajU"
      }
    },
    {
      "cell_type": "code",
      "source": [
        "a = 5 + 3\n",
        "print(a)"
      ],
      "metadata": {
        "colab": {
          "base_uri": "https://localhost:8080/"
        },
        "id": "WwlfqOsL4bEM",
        "outputId": "b06828df-8397-409c-f182-fcb26761dad2"
      },
      "execution_count": null,
      "outputs": [
        {
          "output_type": "stream",
          "name": "stdout",
          "text": [
            "8\n"
          ]
        }
      ]
    },
    {
      "cell_type": "markdown",
      "source": [
        "#SUBTRACTION"
      ],
      "metadata": {
        "id": "UD6zyGX75akk"
      }
    },
    {
      "cell_type": "code",
      "source": [
        "a = 5 - 3\n",
        "print(a)"
      ],
      "metadata": {
        "colab": {
          "base_uri": "https://localhost:8080/"
        },
        "id": "Rp0g2tuG5a2E",
        "outputId": "7dcd6a2e-0fe7-45da-8b87-893e741e27ad"
      },
      "execution_count": null,
      "outputs": [
        {
          "output_type": "stream",
          "name": "stdout",
          "text": [
            "2\n"
          ]
        }
      ]
    },
    {
      "cell_type": "markdown",
      "source": [
        "#MULTIPLICATION"
      ],
      "metadata": {
        "id": "F00j-AJi5bFM"
      }
    },
    {
      "cell_type": "code",
      "source": [
        "a = 5 * 3\n",
        "print(a)"
      ],
      "metadata": {
        "colab": {
          "base_uri": "https://localhost:8080/"
        },
        "id": "b1UZPr6O5bWU",
        "outputId": "92b72e53-9a76-456d-f6b3-781b65444357"
      },
      "execution_count": null,
      "outputs": [
        {
          "output_type": "stream",
          "name": "stdout",
          "text": [
            "15\n"
          ]
        }
      ]
    },
    {
      "cell_type": "markdown",
      "source": [
        "#EXPONENT"
      ],
      "metadata": {
        "id": "t5aLbeoT5blE"
      }
    },
    {
      "cell_type": "code",
      "source": [
        "a = 5 ** 3\n",
        "print(a)"
      ],
      "metadata": {
        "colab": {
          "base_uri": "https://localhost:8080/"
        },
        "id": "bxNojJdm5b4c",
        "outputId": "8d4a911e-692f-4056-b24e-c0f409853da9"
      },
      "execution_count": null,
      "outputs": [
        {
          "output_type": "stream",
          "name": "stdout",
          "text": [
            "125\n"
          ]
        }
      ]
    },
    {
      "cell_type": "markdown",
      "source": [
        "#DIVISION"
      ],
      "metadata": {
        "id": "Q08SrJkm5pI8"
      }
    },
    {
      "cell_type": "code",
      "source": [
        "a = 5/3\n",
        "print(a)"
      ],
      "metadata": {
        "colab": {
          "base_uri": "https://localhost:8080/"
        },
        "id": "uG9wro2X5pks",
        "outputId": "86cce114-e098-42f7-91bf-aea068bd912e"
      },
      "execution_count": null,
      "outputs": [
        {
          "output_type": "stream",
          "name": "stdout",
          "text": [
            "1.6666666666666667\n"
          ]
        }
      ]
    },
    {
      "cell_type": "code",
      "source": [
        "a = 5 % 3\n",
        "print(a)"
      ],
      "metadata": {
        "colab": {
          "base_uri": "https://localhost:8080/"
        },
        "id": "23O5jv5l6NOu",
        "outputId": "090f35c4-e14a-4f0e-8760-723960fff179"
      },
      "execution_count": null,
      "outputs": [
        {
          "output_type": "stream",
          "name": "stdout",
          "text": [
            "2\n"
          ]
        }
      ]
    },
    {
      "cell_type": "code",
      "source": [
        "a = 5// 3\n",
        "print(a)"
      ],
      "metadata": {
        "colab": {
          "base_uri": "https://localhost:8080/"
        },
        "id": "KUkUFteJ6NqM",
        "outputId": "f9d12511-02cb-414f-c992-149fd6b3d50f"
      },
      "execution_count": null,
      "outputs": [
        {
          "output_type": "stream",
          "name": "stdout",
          "text": [
            "1\n"
          ]
        }
      ]
    },
    {
      "cell_type": "markdown",
      "source": [
        "#INCREMENT"
      ],
      "metadata": {
        "id": "hyFttyFt6bFk"
      }
    },
    {
      "cell_type": "code",
      "source": [
        "a = 5\n",
        "a += 1\n",
        "print(a)"
      ],
      "metadata": {
        "colab": {
          "base_uri": "https://localhost:8080/"
        },
        "id": "pZX7VjoA6be8",
        "outputId": "50233d2a-e4a4-4428-e6cc-be5bc7eb36b2"
      },
      "execution_count": null,
      "outputs": [
        {
          "output_type": "stream",
          "name": "stdout",
          "text": [
            "6\n"
          ]
        }
      ]
    },
    {
      "cell_type": "markdown",
      "source": [
        "#DECREMENT"
      ],
      "metadata": {
        "id": "0DmWOT5p6ciM"
      }
    },
    {
      "cell_type": "code",
      "source": [
        "a = 5\n",
        "a -= 1\n",
        "print(a)"
      ],
      "metadata": {
        "colab": {
          "base_uri": "https://localhost:8080/"
        },
        "id": "X83EC9X06c4s",
        "outputId": "fefa5e4d-d593-4c83-ba49-40bc3115ba6f"
      },
      "execution_count": null,
      "outputs": [
        {
          "output_type": "stream",
          "name": "stdout",
          "text": [
            "4\n"
          ]
        }
      ]
    },
    {
      "cell_type": "markdown",
      "source": [
        "#STRING CONCATENATION"
      ],
      "metadata": {
        "id": "SJgIIfTh6twF"
      }
    },
    {
      "cell_type": "code",
      "source": [
        "a = 'Hello ' + 'World!'\n",
        "print(a)"
      ],
      "metadata": {
        "colab": {
          "base_uri": "https://localhost:8080/"
        },
        "id": "gBP4JFH66uDE",
        "outputId": "407f4ab7-ce71-40e9-ea71-3c34e3620a00"
      },
      "execution_count": null,
      "outputs": [
        {
          "output_type": "stream",
          "name": "stdout",
          "text": [
            "Hello World!\n"
          ]
        }
      ]
    },
    {
      "cell_type": "markdown",
      "source": [
        "#COMPLEX EXPRESSION"
      ],
      "metadata": {
        "id": "36NhZHaC6-ms"
      }
    },
    {
      "cell_type": "code",
      "source": [
        "a = 3 + 5 - 6 * 2 / 4\n",
        "print(a)"
      ],
      "metadata": {
        "colab": {
          "base_uri": "https://localhost:8080/"
        },
        "id": "_LqyAhvc6-28",
        "outputId": "ceb5c431-68b0-448c-8df9-62979b3cb8e7"
      },
      "execution_count": null,
      "outputs": [
        {
          "output_type": "stream",
          "name": "stdout",
          "text": [
            "5.0\n"
          ]
        }
      ]
    },
    {
      "cell_type": "markdown",
      "source": [
        "#BOOLEAN CONDITIONS"
      ],
      "metadata": {
        "id": "YD7_-QLn7TMk"
      }
    },
    {
      "cell_type": "code",
      "source": [
        "x = True\n",
        "if x:\n",
        "  print(\"var x is true\")\n",
        "else:\n",
        "  print(\"var x is false\")"
      ],
      "metadata": {
        "colab": {
          "base_uri": "https://localhost:8080/"
        },
        "id": "U4dB1OUw7TeM",
        "outputId": "f6354036-90ae-486b-bd9b-bb68bfac89a1"
      },
      "execution_count": null,
      "outputs": [
        {
          "output_type": "stream",
          "name": "stdout",
          "text": [
            "var x is true\n"
          ]
        }
      ]
    },
    {
      "cell_type": "markdown",
      "source": [
        "#STRING CONDITIONS"
      ],
      "metadata": {
        "id": "n9fIjuxl7T60"
      }
    },
    {
      "cell_type": "code",
      "source": [
        "x = \"Hello World\"\n",
        "if x == \"Hello World\":\n",
        "  print(\"x is Hello World\")\n",
        "else:\n",
        "  print(\"x is not Hello World\")"
      ],
      "metadata": {
        "colab": {
          "base_uri": "https://localhost:8080/"
        },
        "id": "8SpCXgCt7UI0",
        "outputId": "72aec362-864b-4c7c-88fd-42251b3b9ecf"
      },
      "execution_count": null,
      "outputs": [
        {
          "output_type": "stream",
          "name": "stdout",
          "text": [
            "x is Hello World\n"
          ]
        }
      ]
    },
    {
      "cell_type": "markdown",
      "source": [
        "#NUMERICAL CONDITIONS"
      ],
      "metadata": {
        "id": "O9xkPe-o7k4U"
      }
    },
    {
      "cell_type": "code",
      "source": [
        "x = 10\n",
        "if x == '10':\n",
        "  print(\"x is a string\")\n",
        "elif x == 10:\n",
        "  print(\"x is numeric\")\n",
        "else:\n",
        "  print(\"x is none of the above\")"
      ],
      "metadata": {
        "colab": {
          "base_uri": "https://localhost:8080/"
        },
        "id": "pJNLQqcw7lNN",
        "outputId": "0a82826a-5334-40fd-cea9-2eba9304efc1"
      },
      "execution_count": null,
      "outputs": [
        {
          "output_type": "stream",
          "name": "stdout",
          "text": [
            "x is numeric\n"
          ]
        }
      ]
    },
    {
      "cell_type": "markdown",
      "source": [
        "#FOR LOOPS"
      ],
      "metadata": {
        "id": "ctl5FVKP7yzs"
      }
    },
    {
      "cell_type": "code",
      "source": [
        "for var in range (0 , 5, 2):\n",
        "  print(var)"
      ],
      "metadata": {
        "colab": {
          "base_uri": "https://localhost:8080/"
        },
        "id": "ZFaCjLZi7zIM",
        "outputId": "9e3b6382-c1bc-4d9a-d064-61cc0953408b"
      },
      "execution_count": null,
      "outputs": [
        {
          "output_type": "stream",
          "name": "stdout",
          "text": [
            "0\n",
            "2\n",
            "4\n"
          ]
        }
      ]
    },
    {
      "cell_type": "markdown",
      "source": [
        "#WHILE LOOPS"
      ],
      "metadata": {
        "id": "QJ-GfXM7741k"
      }
    },
    {
      "cell_type": "code",
      "source": [
        "var = 0\n",
        "while var < 5:\n",
        "  print(var)\n",
        "  var += 2"
      ],
      "metadata": {
        "colab": {
          "base_uri": "https://localhost:8080/"
        },
        "id": "uAS7AqiL75WM",
        "outputId": "53bb5819-35de-4367-8547-27f2efc223ea"
      },
      "execution_count": null,
      "outputs": [
        {
          "output_type": "stream",
          "name": "stdout",
          "text": [
            "0\n",
            "2\n",
            "4\n"
          ]
        }
      ]
    },
    {
      "cell_type": "markdown",
      "source": [
        "#NESTED LOOPS"
      ],
      "metadata": {
        "id": "zTIgA5C_75qk"
      }
    },
    {
      "cell_type": "code",
      "source": [
        "x= 0\n",
        "while x < 5:\n",
        "  for y in range (0, x):\n",
        "    print(y, end='')\n",
        "  x += 1\n",
        "  print()\n"
      ],
      "metadata": {
        "colab": {
          "base_uri": "https://localhost:8080/"
        },
        "id": "zn2rxaYI9Bbc",
        "outputId": "9ea2aa90-8cc8-4cf6-d50f-3f1ec28c0886"
      },
      "execution_count": null,
      "outputs": [
        {
          "output_type": "stream",
          "name": "stdout",
          "text": [
            "\n",
            "0\n",
            "01\n",
            "012\n",
            "0123\n"
          ]
        }
      ]
    },
    {
      "cell_type": "markdown",
      "source": [
        "#FUNCTIONS"
      ],
      "metadata": {
        "id": "8T1THqJF923s"
      }
    },
    {
      "cell_type": "code",
      "source": [
        "def remainder(n,m):\n",
        "  while True:\n",
        "\n",
        "    if n - m < 0:\n",
        "      return n\n",
        "    else:\n",
        "      n = n - m\n",
        "remainder(10, 4)"
      ],
      "metadata": {
        "colab": {
          "base_uri": "https://localhost:8080/"
        },
        "id": "SEw_1rmQ95wc",
        "outputId": "bc74833f-c124-4b94-b453-65511db8fa4d"
      },
      "execution_count": null,
      "outputs": [
        {
          "output_type": "execute_result",
          "data": {
            "text/plain": [
              "2"
            ]
          },
          "metadata": {},
          "execution_count": 38
        }
      ]
    },
    {
      "cell_type": "markdown",
      "source": [
        "#DICTIONARIES"
      ],
      "metadata": {
        "id": "RbARKZI3_oh0"
      }
    },
    {
      "cell_type": "code",
      "source": [
        "var = \"Hello World!\"\n",
        "varDict = {'first': 123, 2: 'abc', '3' : var, 4 : ['lista', 'ltsb']}\n",
        "print(varDict['first'])\n",
        "print(varDict[2])\n",
        "print(varDict['3'])\n",
        "print(varDict[4])\n",
        "print(varDict[4][1])\n",
        "len(varDict)\n"
      ],
      "metadata": {
        "colab": {
          "base_uri": "https://localhost:8080/"
        },
        "id": "KehDZOJm_owL",
        "outputId": "22f2396e-38d2-41f1-9073-de1f48e307b7"
      },
      "execution_count": null,
      "outputs": [
        {
          "output_type": "stream",
          "name": "stdout",
          "text": [
            "123\n",
            "abc\n",
            "Hello World!\n",
            "['lista', 'ltsb']\n",
            "ltsb\n"
          ]
        },
        {
          "output_type": "execute_result",
          "data": {
            "text/plain": [
              "4"
            ]
          },
          "metadata": {},
          "execution_count": 41
        }
      ]
    },
    {
      "cell_type": "markdown",
      "source": [
        "#SLICING"
      ],
      "metadata": {
        "id": "FxBzS1vND_zG"
      }
    },
    {
      "cell_type": "code",
      "source": [
        "def gen_num_up_to(n):\n",
        "  num = 0\n",
        "  while num < n:\n",
        "    yield num\n",
        "    num += 1\n",
        "    print(num)\n",
        "gen_num_up_to(5)\n",
        "varList = (gen_num_up_to(5))\n",
        "print(var for var in varList)\n",
        "\n",
        "def gen_num_up_to(n):\n",
        "  num = 0\n",
        "  while num < n:\n",
        "    yield num\n",
        "    num += 2\n",
        "    print(num)\n",
        "varList = (gen_num_up_to(5))\n",
        "print(var for var in varList)\n",
        "\n",
        "varList = range(0, 5, 2)\n",
        "print(var for var in varList)"
      ],
      "metadata": {
        "colab": {
          "base_uri": "https://localhost:8080/"
        },
        "id": "ctiYTcBEEADU",
        "outputId": "4d6ae6fe-c387-4a57-9260-930758cf540b"
      },
      "execution_count": null,
      "outputs": [
        {
          "output_type": "stream",
          "name": "stdout",
          "text": [
            "<generator object <genexpr> at 0x7823d5467510>\n",
            "<generator object <genexpr> at 0x7823d5465d80>\n",
            "<generator object <genexpr> at 0x7823d54665a0>\n"
          ]
        }
      ]
    },
    {
      "cell_type": "code",
      "source": [],
      "metadata": {
        "id": "HmXJN_ZYE2Ht"
      },
      "execution_count": null,
      "outputs": []
    }
  ]
}