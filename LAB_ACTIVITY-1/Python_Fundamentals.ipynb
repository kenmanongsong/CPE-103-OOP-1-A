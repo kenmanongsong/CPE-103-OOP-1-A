{
  "nbformat": 4,
  "nbformat_minor": 0,
  "metadata": {
    "colab": {
      "provenance": [],
      "authorship_tag": "ABX9TyO5ZtABrgECE2S9PVOoljlH",
      "include_colab_link": true
    },
    "kernelspec": {
      "name": "python3",
      "display_name": "Python 3"
    },
    "language_info": {
      "name": "python"
    }
  },
  "cells": [
    {
      "cell_type": "markdown",
      "metadata": {
        "id": "view-in-github",
        "colab_type": "text"
      },
      "source": [
        "<a href=\"https://colab.research.google.com/github/kenmanongsong/kenmanongsong/blob/main/Python_Fundamentals.ipynb\" target=\"_parent\"><img src=\"https://colab.research.google.com/assets/colab-badge.svg\" alt=\"Open In Colab\"/></a>"
      ]
    },
    {
      "cell_type": "markdown",
      "source": [
        "Python Indentation"
      ],
      "metadata": {
        "id": "z_ZpJXw0Fn3a"
      }
    },
    {
      "cell_type": "code",
      "source": [
        "x = 2\n",
        "y= 5\n",
        "\n",
        "if x>y:\n",
        "  print (\"five is greater than 2\")"
      ],
      "metadata": {
        "id": "Cyw-AmrbFuVX"
      },
      "execution_count": null,
      "outputs": []
    },
    {
      "cell_type": "markdown",
      "source": [
        "Python Comments"
      ],
      "metadata": {
        "id": "4tF3e4giItoa"
      }
    },
    {
      "cell_type": "code",
      "source": [
        "#This is a comment\n",
        "\n",
        "print (\"Hello World\")"
      ],
      "metadata": {
        "colab": {
          "base_uri": "https://localhost:8080/"
        },
        "id": "HRsY_oZaItzI",
        "outputId": "80f32ba6-4f68-4302-dce4-96a7e67e9549"
      },
      "execution_count": null,
      "outputs": [
        {
          "output_type": "stream",
          "name": "stdout",
          "text": [
            "Hello World\n"
          ]
        }
      ]
    },
    {
      "cell_type": "markdown",
      "source": [
        "Variable Naming Conventions"
      ],
      "metadata": {
        "id": "vE5qycajKTWR"
      }
    },
    {
      "cell_type": "code",
      "source": [
        "x= 1\n",
        "a, b= 0, -1\n",
        "a, b, c = 0, -1, 2\n",
        "print (c)\n",
        "print (-1)"
      ],
      "metadata": {
        "colab": {
          "base_uri": "https://localhost:8080/"
        },
        "id": "FmUrlITNKyuo",
        "outputId": "f6956662-74d3-44e5-d7f4-1055318f89ea"
      },
      "execution_count": null,
      "outputs": [
        {
          "output_type": "stream",
          "name": "stdout",
          "text": [
            "2\n",
            "-1\n"
          ]
        }
      ]
    },
    {
      "cell_type": "markdown",
      "source": [
        "Python Variable"
      ],
      "metadata": {
        "id": "4TZCqkAmLUqw"
      }
    },
    {
      "cell_type": "code",
      "source": [
        "z = 1\n",
        "a, b = 0, -1\n",
        "print (a)\n",
        "print (b)\n",
        "print (z)"
      ],
      "metadata": {
        "colab": {
          "base_uri": "https://localhost:8080/"
        },
        "id": "rm0q4b_cLXDx",
        "outputId": "78035ff4-7069-4229-9191-a51f24b976d5"
      },
      "execution_count": null,
      "outputs": [
        {
          "output_type": "stream",
          "name": "stdout",
          "text": [
            "0\n",
            "-1\n",
            "1\n"
          ]
        }
      ]
    },
    {
      "cell_type": "markdown",
      "source": [
        "Casting"
      ],
      "metadata": {
        "id": "tX1jg3z7MFB5"
      }
    },
    {
      "cell_type": "code",
      "source": [
        "b = \"sally\"\n",
        "b = int(4)\n",
        "print (b)\n",
        "b = float (4)\n",
        "print (b)"
      ],
      "metadata": {
        "colab": {
          "base_uri": "https://localhost:8080/"
        },
        "id": "JCf4Ff1QMd4g",
        "outputId": "eb0c6e75-4b0c-41ab-b050-0e420b1dbbed"
      },
      "execution_count": null,
      "outputs": [
        {
          "output_type": "stream",
          "name": "stdout",
          "text": [
            "4\n",
            "4.0\n"
          ]
        }
      ]
    },
    {
      "cell_type": "code",
      "source": [
        "x = 5\n",
        "y = \"John\"\n",
        "print (type(x))\n",
        "print (type(y))"
      ],
      "metadata": {
        "colab": {
          "base_uri": "https://localhost:8080/"
        },
        "id": "k6j5gGSmNDSh",
        "outputId": "cc4a7427-91de-4757-84f3-3630a879b471"
      },
      "execution_count": null,
      "outputs": [
        {
          "output_type": "stream",
          "name": "stdout",
          "text": [
            "<class 'int'>\n",
            "<class 'str'>\n"
          ]
        }
      ]
    },
    {
      "cell_type": "markdown",
      "source": [
        "Function()"
      ],
      "metadata": {
        "id": "_SHShDOmN1sQ"
      }
    },
    {
      "cell_type": "code",
      "source": [
        "x = 5\n",
        "y = 'John'\n",
        "print (type(x))\n",
        "print (type(y))"
      ],
      "metadata": {
        "colab": {
          "base_uri": "https://localhost:8080/"
        },
        "id": "D4UzZZT7N_oB",
        "outputId": "f086bbdc-d2fd-4a5a-a34d-b20371c29363"
      },
      "execution_count": null,
      "outputs": [
        {
          "output_type": "stream",
          "name": "stdout",
          "text": [
            "<class 'int'>\n",
            "<class 'str'>\n"
          ]
        }
      ]
    },
    {
      "cell_type": "markdown",
      "source": [
        "Case Sensitive"
      ],
      "metadata": {
        "id": "KNVIVzhaOX6H"
      }
    },
    {
      "cell_type": "code",
      "source": [
        "a = '4'\n",
        "A = \"Sally\"\n",
        "print (a)\n",
        "print (A)"
      ],
      "metadata": {
        "colab": {
          "base_uri": "https://localhost:8080/"
        },
        "id": "AOwmtMGvOXto",
        "outputId": "0ab16792-a33b-40f1-b461-df1967736407"
      },
      "execution_count": null,
      "outputs": [
        {
          "output_type": "stream",
          "name": "stdout",
          "text": [
            "4\n",
            "Sally\n"
          ]
        }
      ]
    },
    {
      "cell_type": "markdown",
      "source": [
        "Output Variable"
      ],
      "metadata": {
        "id": "WWDt-NXzRJ4Q"
      }
    },
    {
      "cell_type": "code",
      "source": [
        "x = \"enjoying\"\n",
        "print (\"Python Programming is\" + \" \" + x)"
      ],
      "metadata": {
        "colab": {
          "base_uri": "https://localhost:8080/"
        },
        "id": "rCmYQ8ikRMcA",
        "outputId": "62f97d9d-a629-4e62-8efc-cc4bdefa2d3e"
      },
      "execution_count": null,
      "outputs": [
        {
          "output_type": "stream",
          "name": "stdout",
          "text": [
            "Python Programming is enjoying\n"
          ]
        }
      ]
    },
    {
      "cell_type": "markdown",
      "source": [
        "Arithmetic Operations"
      ],
      "metadata": {
        "id": "HIvMxrb_Ra7g"
      }
    },
    {
      "cell_type": "code",
      "source": [
        "\n",
        "x = 10\n",
        "y = 3\n",
        "#Exponentiation\n",
        "x**2\n",
        "#Division\n",
        "x/y\n",
        "#Floor division\n",
        "x//y\n",
        "#Modulo\n",
        "x%y"
      ],
      "metadata": {
        "colab": {
          "base_uri": "https://localhost:8080/"
        },
        "id": "StcfYchPRedw",
        "outputId": "1a66ebce-fe89-4440-ba49-eae8b4c60525"
      },
      "execution_count": null,
      "outputs": [
        {
          "output_type": "execute_result",
          "data": {
            "text/plain": [
              "1"
            ]
          },
          "metadata": {},
          "execution_count": 35
        }
      ]
    },
    {
      "cell_type": "markdown",
      "source": [
        "Assignment Operator"
      ],
      "metadata": {
        "id": "Ex53weA2R-YY"
      }
    },
    {
      "cell_type": "code",
      "source": [],
      "metadata": {
        "colab": {
          "base_uri": "https://localhost:8080/"
        },
        "id": "gaSubPNBSC9B",
        "outputId": "f479c1f6-bc73-4915-b1fe-20838ea0c76e"
      },
      "execution_count": null,
      "outputs": [
        {
          "output_type": "stream",
          "name": "stdout",
          "text": [
            "8\n"
          ]
        }
      ]
    },
    {
      "cell_type": "code",
      "source": [
        "# prompt: arithmetic operation table\n",
        "\n",
        "x = 10\n",
        "y = 3\n",
        "\n",
        "# Exponentiation\n",
        "print(\"Exponentiation (x**2):\", x**2)\n",
        "\n",
        "# Division\n",
        "print(\"Division (x/y):\", x/y)\n",
        "\n",
        "# Floor division\n",
        "print(\"Floor Division (x//y):\", x//y)\n",
        "\n",
        "# Modulo\n",
        "print(\"Modulo (x%y):\", x%y)\n",
        "\n",
        "# Addition\n",
        "print(\"Addition (x + y):\", x + y)\n",
        "\n",
        "# Subtraction\n",
        "print(\"Subtraction (x - y):\", x - y)\n",
        "\n",
        "# Multiplication\n",
        "print(\"Multiplication (x * y):\", x * y)"
      ],
      "metadata": {
        "id": "Jiecby6oUJJ6"
      },
      "execution_count": null,
      "outputs": []
    },
    {
      "cell_type": "markdown",
      "source": [
        "Logical Operator"
      ],
      "metadata": {
        "id": "PYExGVvxTfwB"
      }
    },
    {
      "cell_type": "code",
      "source": [
        "x = 5\n",
        "y = 2\n",
        "not (x>y)\n"
      ],
      "metadata": {
        "colab": {
          "base_uri": "https://localhost:8080/"
        },
        "id": "vmZIS_l3TijR",
        "outputId": "b2f9be31-b882-41f3-d1d6-0d698bca8b3f"
      },
      "execution_count": null,
      "outputs": [
        {
          "output_type": "execute_result",
          "data": {
            "text/plain": [
              "False"
            ]
          },
          "metadata": {},
          "execution_count": 37
        }
      ]
    },
    {
      "cell_type": "markdown",
      "source": [
        "Bitwise Operator"
      ],
      "metadata": {
        "id": "65AMz8VYUi9I"
      }
    },
    {
      "cell_type": "code",
      "source": [
        "#decimal to binary\n",
        "#10 = 1010\n",
        "\n",
        "x = 10\n",
        "x>>1\n"
      ],
      "metadata": {
        "colab": {
          "base_uri": "https://localhost:8080/"
        },
        "id": "IyZTpPdPUmgR",
        "outputId": "526eb8c8-79f5-444d-863a-36c40210804c"
      },
      "execution_count": null,
      "outputs": [
        {
          "output_type": "execute_result",
          "data": {
            "text/plain": [
              "5"
            ]
          },
          "metadata": {},
          "execution_count": 42
        }
      ]
    },
    {
      "cell_type": "markdown",
      "source": [
        "Application 1"
      ],
      "metadata": {
        "id": "l5rntlkkYTna"
      }
    },
    {
      "cell_type": "code",
      "source": [
        "#Application 1\n",
        "#Rectangle\n",
        "#Triangle\n",
        "#Circle\n",
        "\n",
        "length = 3\n",
        "width = 4\n",
        "result = int(x) * int(y)\n",
        "print (\"The area of the rectangle is\",result)\n",
        "\n",
        "buttom_base = 3\n",
        "height = 5\n",
        "result = 0.5 * buttom_base * height\n",
        "print (\"The area of the triangle is\",result)\n",
        "\n",
        "pi = 3.1416\n",
        "radius = 4\n",
        "result = pi  * radius * radius\n",
        "print (\"The area of the circle is\",result)"
      ],
      "metadata": {
        "colab": {
          "base_uri": "https://localhost:8080/"
        },
        "id": "-DaAfrCeXBfw",
        "outputId": "b12e40d7-ff09-4721-ee18-5c12034c1b3a"
      },
      "execution_count": null,
      "outputs": [
        {
          "output_type": "stream",
          "name": "stdout",
          "text": [
            "The area of the rectangle is 12\n",
            "The area of the triangle is 7.5\n",
            "The area of the circle is 50.2656\n"
          ]
        }
      ]
    }
  ]
}