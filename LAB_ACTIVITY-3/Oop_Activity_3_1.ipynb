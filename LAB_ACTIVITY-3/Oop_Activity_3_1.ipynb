{
  "cells": [
    {
      "cell_type": "markdown",
      "metadata": {
        "id": "view-in-github",
        "colab_type": "text"
      },
      "source": [
        "<a href=\"https://colab.research.google.com/github/kenmanongsong/CPE-103-OOP-1-A/blob/main/Oop_Activity_3_1.ipynb\" target=\"_parent\"><img src=\"https://colab.research.google.com/assets/colab-badge.svg\" alt=\"Open In Colab\"/></a>"
      ]
    },
    {
      "cell_type": "markdown",
      "id": "8298e507-62e9-4dd9-bd56-cfd5dde59b0f",
      "metadata": {
        "id": "8298e507-62e9-4dd9-bd56-cfd5dde59b0f"
      },
      "source": [
        "Creating Classes"
      ]
    },
    {
      "cell_type": "code",
      "execution_count": null,
      "id": "07982604-7153-4529-9a68-ee0bcaef2d4c",
      "metadata": {
        "id": "07982604-7153-4529-9a68-ee0bcaef2d4c"
      },
      "outputs": [],
      "source": [
        "class Accounts():\n",
        "    account_number = 0\n",
        "    account_firstname = \"\"\n",
        "    account_lastname = \"\"\n",
        "    current_balance = 0\n",
        "    address = \"\"\n",
        "    email = \"\"\n",
        "\n",
        "    def update_address(new_address):\n",
        "        Accounts.address = new_address\n",
        "\n",
        "    def update_email(new_email):\n",
        "        Accounts.email = new_email"
      ]
    },
    {
      "cell_type": "code",
      "execution_count": null,
      "id": "72870d98-c2ea-4ba3-b0ed-5016da1f84b9",
      "metadata": {
        "id": "72870d98-c2ea-4ba3-b0ed-5016da1f84b9"
      },
      "outputs": [],
      "source": [
        "class ATM():\n",
        "    serial_number = 0\n",
        "\n",
        "    def deposit(self, Accounts: Accounts, amount):\n",
        "        Accounts.current_balance += amount\n",
        "        print(\"depost complete\")\n",
        "\n",
        "    def withdraw(self, Accounts: Accounts, amount):\n",
        "        Accounts.current_balance -= amount\n",
        "        print(\"withdraw complete\")\n",
        "\n",
        "    def check_currentbalance(self, Accounts: Accounts):\n",
        "        print(Accounts.current_balance)"
      ]
    },
    {
      "cell_type": "markdown",
      "id": "1f154436-4e17-4562-82e8-ef4dd0c253f6",
      "metadata": {
        "id": "1f154436-4e17-4562-82e8-ef4dd0c253f6"
      },
      "source": [
        "Creating Instances of Classes"
      ]
    },
    {
      "cell_type": "code",
      "execution_count": null,
      "id": "0a69c2d9-ffcc-4bce-93da-8f9bdce27e14",
      "metadata": {
        "id": "0a69c2d9-ffcc-4bce-93da-8f9bdce27e14",
        "outputId": "c91a4c85-ed25-4fa6-a6dd-572cead56de8"
      },
      "outputs": [
        {
          "name": "stdout",
          "output_type": "stream",
          "text": [
            "Royce\n",
            "Chua\n",
            "1000\n",
            "Silver Street Quezon City\n",
            "roycechua123@gmail.com\n",
            "\n",
            "John\n",
            "Doe\n",
            "2000\n",
            "Golden Street Quezon City\n",
            "\n"
          ]
        }
      ],
      "source": [
        "Account1 = Accounts()\n",
        "Account1.account_firstname = \"Royce\"\n",
        "Accounts.account_lastname = \"Chua\"\n",
        "Account1.current_balance = 1000\n",
        "Account1.address = \"Silver Street Quezon City\"\n",
        "Account1.email = \"roycechua123@gmail.com\"\n",
        "\n",
        "print(Account1.account_firstname)\n",
        "print(Account1.account_lastname)\n",
        "print(Account1.current_balance)\n",
        "print(Account1.address)\n",
        "print(Account1.email)\n",
        "\n",
        "print()\n",
        "\n",
        "Account2 = Accounts()\n",
        "Account2.account_firstname = \"John\"\n",
        "Account2.account_lastname = \"Doe\"\n",
        "Account2.current_balance = 2000\n",
        "Account2.address = \"Golden Street Quezon City\"\n",
        "Account1.email = \"johndoe@yahoo.com\"\n",
        "\n",
        "print(Account2.account_firstname)\n",
        "print(Account2.account_lastname)\n",
        "print(Account2.current_balance)\n",
        "print(Account2.address)\n",
        "print(Account2.email)"
      ]
    },
    {
      "cell_type": "code",
      "execution_count": null,
      "id": "74de22b2-a451-456f-ae7a-307e4e26b568",
      "metadata": {
        "id": "74de22b2-a451-456f-ae7a-307e4e26b568",
        "outputId": "6dfd97eb-0317-4517-a5ec-d8aff24fc785"
      },
      "outputs": [
        {
          "name": "stdout",
          "output_type": "stream",
          "text": [
            "depost complete\n",
            "1500\n",
            "depost complete\n",
            "2500\n"
          ]
        }
      ],
      "source": [
        "ATM1 = ATM()\n",
        "ATM1.deposit(Account1, 500)\n",
        "ATM1.check_currentbalance(Account1)\n",
        "\n",
        "ATM1.deposit(Account2, 500)\n",
        "ATM1.check_currentbalance(Account2)"
      ]
    },
    {
      "cell_type": "markdown",
      "id": "02a17e3a-b438-4b4b-b42b-dc05b986fefa",
      "metadata": {
        "id": "02a17e3a-b438-4b4b-b42b-dc05b986fefa"
      },
      "source": [
        "Create the Constructor in each Class"
      ]
    },
    {
      "cell_type": "code",
      "execution_count": null,
      "id": "39054183-8508-4fed-8eaf-85abebe163f5",
      "metadata": {
        "id": "39054183-8508-4fed-8eaf-85abebe163f5"
      },
      "outputs": [],
      "source": [
        "class Accounts():\n",
        "    def __init__(self, account_number, account_firstname, account_lastname, current_balance, address, email):\n",
        "        self.account_number = account_number\n",
        "        self.account_firstname = account_firstname\n",
        "        self.account_lastname = account_lastname\n",
        "        self.current_balance = current_balance\n",
        "        self.address = address\n",
        "        self.email = email\n",
        "\n",
        "    def update_address(self, new_address):\n",
        "        self.address = new_address\n",
        "\n",
        "    def update_email(self, new_email):\n",
        "        self.email = new_email"
      ]
    },
    {
      "cell_type": "code",
      "execution_count": null,
      "id": "0e97e611-890b-471d-82bc-853003924496",
      "metadata": {
        "id": "0e97e611-890b-471d-82bc-853003924496",
        "outputId": "9ff22fac-3cf8-443b-adc4-6fed5e71b336"
      },
      "outputs": [
        {
          "name": "stdout",
          "output_type": "stream",
          "text": [
            "Account1\n",
            "Royce\n",
            "Chua\n",
            "1000\n",
            "Silver Street Quezon City\n",
            "roycechua123@gmail.com\n",
            "\n",
            "Account2\n",
            "John\n",
            "Doe\n",
            "2000\n",
            "Golden Street Quezon City\n",
            "johndoe@yahoo.com\n"
          ]
        }
      ],
      "source": [
        "Account1 = Accounts(123456, \"Royce\", \"Chua\", 1000, \"Silver Street Quezon City\", \"roycechua123@gmail.com\")\n",
        "\n",
        "print(\"Account1\")\n",
        "print(Account1.account_firstname)\n",
        "print(Account1.account_lastname)\n",
        "print(Account1.current_balance)\n",
        "print(Account1.address)\n",
        "print(Account1.email)\n",
        "\n",
        "print()\n",
        "\n",
        "Account2 = Accounts(654321, \"John\", \"Doe\", 2000, \"Golden Street Quezon City\", \"johndoe@yahoo.com\")\n",
        "print(\"Account2\")\n",
        "print(Account2.account_firstname)\n",
        "print(Account2.account_lastname)\n",
        "print(Account2.current_balance)\n",
        "print(Account2.address)\n",
        "print(Account2.email)"
      ]
    },
    {
      "cell_type": "markdown",
      "source": [
        "Task"
      ],
      "metadata": {
        "id": "OB311GHben4Z"
      },
      "id": "OB311GHben4Z"
    },
    {
      "cell_type": "code",
      "execution_count": null,
      "id": "44a886f5-9b5e-4e8d-b85a-156826ae4f24",
      "metadata": {
        "id": "44a886f5-9b5e-4e8d-b85a-156826ae4f24",
        "colab": {
          "base_uri": "https://localhost:8080/"
        },
        "outputId": "e3a9789a-8b18-4272-d653-7bc42a2db25b"
      },
      "outputs": [
        {
          "output_type": "stream",
          "name": "stdout",
          "text": [
            "Account1\n",
            "Royce\n",
            "Chua\n",
            "1000\n",
            "Silver Street Quezon City\n",
            "roycechua123@gmail.com\n",
            "\n",
            "Account2\n",
            "John\n",
            "Doe\n",
            "2000\n",
            "Golden Street Quezon City\n",
            "johndoe@yahoo.com\n",
            "\n",
            "ATM serial number: 67890\n",
            "deposit complete\n",
            "Current balance: $1500\n",
            "deposit complete\n",
            "Current balance: $2500\n",
            "withdraw complete\n",
            "Current balance: $1300\n",
            "\n",
            "=== Transaction Summary ===\n",
            "Account 123456 deposited $500\n",
            "Account 654321 deposited $500\n",
            "Account 123456 withdrew $200\n",
            "========================\n"
          ]
        }
      ],
      "source": [
        "class ATM():\n",
        "    serial_number = 0\n",
        "    transactions_list = []\n",
        "\n",
        "    def __init__(self, serial_number):\n",
        "        self.serial_number = serial_number\n",
        "        self.transactions_list = []  # Initialize empty list for each ATM\n",
        "        print(\"ATM serial number:\", self.serial_number)\n",
        "\n",
        "    def deposit(self, Account: Accounts, amount):\n",
        "        Account.current_balance += amount\n",
        "        # Store account number and transaction type in list\n",
        "        self.transactions_list.append(f\"Account {Account.account_number} deposited ${amount}\")\n",
        "        print(\"deposit complete\")\n",
        "\n",
        "    def withdraw(self, Account: Accounts, amount):\n",
        "        Account.current_balance -= amount\n",
        "        # Store account number and transaction type in list\n",
        "        self.transactions_list.append(f\"Account {Account.account_number} withdrew ${amount}\")\n",
        "        print(\"withdraw complete\")\n",
        "\n",
        "    def check_currentbalance(self, Account: Accounts):\n",
        "        print(f\"Current balance: ${Account.current_balance}\")\n",
        "\n",
        "    def view_transactionsummary(self):\n",
        "        print(\"\\n=== Transaction Summary ===\")\n",
        "        if len(self.transactions_list) == 0:\n",
        "            print(\"No transactions made yet\")\n",
        "        else:\n",
        "            # Print each transaction on a new line\n",
        "            for transaction in self.transactions_list:\n",
        "                print(transaction)\n",
        "        print(\"========================\")\n",
        "\n",
        "\n",
        "# Test the program\n",
        "Account1 = Accounts(123456, \"Royce\", \"Chua\", 1000, \"Silver Street Quezon City\", \"roycechua123@gmail.com\")\n",
        "\n",
        "print(\"Account1\")\n",
        "print(Account1.account_firstname)\n",
        "print(Account1.account_lastname)\n",
        "print(Account1.current_balance)\n",
        "print(Account1.address)\n",
        "print(Account1.email)\n",
        "\n",
        "print()\n",
        "\n",
        "Account2 = Accounts(654321, \"John\", \"Doe\", 2000, \"Golden Street Quezon City\", \"johndoe@yahoo.com\")\n",
        "print(\"Account2\")\n",
        "print(Account2.account_firstname)\n",
        "print(Account2.account_lastname)\n",
        "print(Account2.current_balance)\n",
        "print(Account2.address)\n",
        "print(Account2.email)\n",
        "\n",
        "print()\n",
        "\n",
        "# Create ATM and perform transactions\n",
        "ATM1 = ATM(67890)\n",
        "\n",
        "# Test deposits\n",
        "ATM1.deposit(Account1, 500)\n",
        "ATM1.check_currentbalance(Account1)\n",
        "\n",
        "ATM1.deposit(Account2, 500)\n",
        "ATM1.check_currentbalance(Account2)\n",
        "\n",
        "# Test withdrawals\n",
        "ATM1.withdraw(Account1, 200)\n",
        "ATM1.check_currentbalance(Account1)\n",
        "\n",
        "# View transaction summary\n",
        "ATM1.view_transactionsummary()"
      ]
    }
  ],
  "metadata": {
    "kernelspec": {
      "display_name": "Python 3 (ipykernel)",
      "language": "python",
      "name": "python3"
    },
    "language_info": {
      "codemirror_mode": {
        "name": "ipython",
        "version": 3
      },
      "file_extension": ".py",
      "mimetype": "text/x-python",
      "name": "python",
      "nbconvert_exporter": "python",
      "pygments_lexer": "ipython3",
      "version": "3.12.8"
    },
    "colab": {
      "provenance": [],
      "include_colab_link": true
    }
  },
  "nbformat": 4,
  "nbformat_minor": 5
}