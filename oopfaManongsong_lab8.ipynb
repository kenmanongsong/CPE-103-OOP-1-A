{
  "nbformat": 4,
  "nbformat_minor": 0,
  "metadata": {
    "colab": {
      "provenance": [],
      "authorship_tag": "ABX9TyM8I9nlpWdNXVgSadvQUetE",
      "include_colab_link": true
    },
    "kernelspec": {
      "name": "python3",
      "display_name": "Python 3"
    },
    "language_info": {
      "name": "python"
    }
  },
  "cells": [
    {
      "cell_type": "markdown",
      "metadata": {
        "id": "view-in-github",
        "colab_type": "text"
      },
      "source": [
        "<a href=\"https://colab.research.google.com/github/kenmanongsong/CPE-103-OOP-1-A/blob/main/oopfaManongsong_lab8.ipynb\" target=\"_parent\"><img src=\"https://colab.research.google.com/assets/colab-badge.svg\" alt=\"Open In Colab\"/></a>"
      ]
    },
    {
      "cell_type": "markdown",
      "source": [
        "#CREATING THE CLASSES"
      ],
      "metadata": {
        "id": "RB2bopBSJJrw"
      }
    },
    {
      "cell_type": "code",
      "execution_count": null,
      "metadata": {
        "colab": {
          "base_uri": "https://localhost:8080/"
        },
        "id": "QS6jA7cfJITm",
        "outputId": "d583bdba-8a53-48bd-ae5c-0ed874ce40e4"
      },
      "outputs": [
        {
          "output_type": "stream",
          "name": "stdout",
          "text": [
            "Enter feet and inches of distance 1 (separated by space): 4 5\n",
            "Enter feet and inches of distance 2 (separated by space): 6 8\n",
            "Distance 2 is greater or equal to Distance 1\n",
            "Sum of the two Distance is:\n",
            "Feet=  11 Inches=  1\n"
          ]
        }
      ],
      "source": [
        "class distance:\n",
        "    def __init__(self, f, i):\n",
        "        self.feet = f\n",
        "        self.inches = i\n",
        "\n",
        "    def __gt__(self, d):\n",
        "        if (self.feet > d.feet):\n",
        "            return (True)\n",
        "        elif ((self.feet == d.feet) and (self.inches > d.inches)):\n",
        "            return (True)\n",
        "        else:\n",
        "            return (False)\n",
        "\n",
        "    def add(self, d):\n",
        "        i = self.inches + d.inches\n",
        "        f = self.feet + d.feet\n",
        "        if (i >= 12):\n",
        "            i = i - 12\n",
        "            f = f + 1\n",
        "            return distance(f, i)\n",
        "\n",
        "    def show(self):\n",
        "        print(\"Feet= \", self.feet, \"Inches= \", self.inches)\n",
        "\n",
        "\n",
        "while True:\n",
        "    try:\n",
        "        input_str = input(\"Enter feet and inches of distance 1 (separated by space): \")\n",
        "        a, b = map(int, input_str.split())\n",
        "        break\n",
        "    except ValueError:\n",
        "        print(\"Invalid input. Please enter two numbers separated by space.\")\n",
        "\n",
        "\n",
        "while True:\n",
        "    try:\n",
        "        input_str = input(\"Enter feet and inches of distance 2 (separated by space): \")\n",
        "        c, d = map(int, input_str.split())\n",
        "        break\n",
        "    except ValueError:\n",
        "        print(\"Invalid input. Please enter two numbers separated by space.\")\n",
        "\n",
        "d1 = distance(a, b)\n",
        "d2 = distance(c, d)\n",
        "if (d1 > d2):\n",
        "    print(\"Distance 1 is greater than Distance 2\")\n",
        "else:\n",
        "    print(\"Distance 2 is greater or equal to Distance 1\")\n",
        "    d3 = d1.add(d2)\n",
        "    print(\"Sum of the two Distance is:\")\n",
        "    if d3:\n",
        "      d3.show()"
      ]
    },
    {
      "cell_type": "markdown",
      "source": [
        "#Testing and Observing Polymorphism"
      ],
      "metadata": {
        "id": "BEfd8DUeNqFk"
      }
    },
    {
      "cell_type": "code",
      "source": [
        "class RegularPolygon:\n",
        "    def __init__(self, side):\n",
        "        self._side = side\n",
        "\n",
        "class Square(RegularPolygon):\n",
        "    def area(self):\n",
        "        return self._side * self._side\n",
        "\n",
        "class EquilateralTriangle(RegularPolygon):\n",
        "    def area(self):\n",
        "        return self._side * self._side * 0.433\n",
        "\n",
        "class Pentagon(RegularPolygon):\n",
        "    def area(self):\n",
        "        return 1.72048 * (self._side ** 2)\n",
        "\n",
        "class Hexagon(RegularPolygon):\n",
        "    def area(self):\n",
        "        return (3 * (3**0.5) / 2) * (self._side ** 2)\n",
        "\n",
        "obj1 = Square(4)\n",
        "obj2 = EquilateralTriangle(3)\n",
        "obj3 = Pentagon(5)\n",
        "obj4 = Hexagon(2)\n",
        "\n",
        "print(obj1.area())\n",
        "print(obj2.area())\n",
        "print(obj3.area())\n",
        "print(obj4.area())"
      ],
      "metadata": {
        "colab": {
          "base_uri": "https://localhost:8080/"
        },
        "id": "W0z-kFIvNntE",
        "outputId": "11428b85-e187-4cd7-f132-35530ea11780"
      },
      "execution_count": null,
      "outputs": [
        {
          "output_type": "stream",
          "name": "stdout",
          "text": [
            "16\n",
            "3.897\n",
            "43.012\n",
            "10.392304845413264\n"
          ]
        }
      ]
    }
  ]
}